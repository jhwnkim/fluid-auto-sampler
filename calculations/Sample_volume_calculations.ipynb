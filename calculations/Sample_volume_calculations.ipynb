{
 "cells": [
  {
   "cell_type": "markdown",
   "metadata": {},
   "source": [
    "# Dead volume and measurement uncertainty calculations\n",
    "\n",
    "Based on following system specifications:\n",
    "\n",
    "* Elveflow flow controller system\n",
    "    1. OB1 pressure controller\n",
    "    2. MFS4 flow sensor\n",
    "    3. MFV-NP-32_2 valve\n",
    "    \n",
    "    \n",
    "* Biosys FC-81 flow cell\n"
   ]
  },
  {
   "cell_type": "code",
   "execution_count": null,
   "metadata": {},
   "outputs": [],
   "source": [
    "from pint import UnitRegistry\n",
    "import numpy as np\n",
    "\n",
    "u = UnitRegistry()\n",
    "\n",
    "# Tubing dead volume\n",
    "length = 0.5 * u.meter\n",
    "diameter = 1/32 * u.inch # https://www.mcmaster.com/5239K23 ID 1/32\", OD 1/16\" PTFE tubing\n",
    "# diameter = 0.038 * u.inch # https://scicominc.com/tubing/ptfe/ ID 0.038\", OD 0.62\" PTFE tubing\n",
    "area = np.pi * (diameter/2)**2\n",
    "vol = area*length\n",
    "print(vol.to('microliter'))\n",
    "\n",
    "\n",
    "flowrate = (1.*u.milliliter / u.minute).plus_minus(0.05, relative=True)\n",
    "sample_time = (1.5* u.minute).plus_minus(140*u.millisecond)\n",
    "\n",
    "sample_vol = flowrate*sample_time\n",
    "\n",
    "print(sample_vol.value)\n",
    "print(sample_vol.error)"
   ]
  }
 ],
 "metadata": {
  "kernelspec": {
   "display_name": "Python 3",
   "language": "python",
   "name": "python3"
  },
  "language_info": {
   "codemirror_mode": {
    "name": "ipython",
    "version": 3
   },
   "file_extension": ".py",
   "mimetype": "text/x-python",
   "name": "python",
   "nbconvert_exporter": "python",
   "pygments_lexer": "ipython3",
   "version": "3.6.10"
  }
 },
 "nbformat": 4,
 "nbformat_minor": 4
}
