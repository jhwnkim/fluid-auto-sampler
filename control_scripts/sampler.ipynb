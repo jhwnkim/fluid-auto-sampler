{
 "cells": [
  {
   "cell_type": "markdown",
   "metadata": {},
   "source": [
    "# Auto Sampler script\n",
    "## Elveflow Instruments\n",
    "* OB1 pressure controller\n",
    "* MUX Wire\n",
    "* "
   ]
  },
  {
   "cell_type": "markdown",
   "metadata": {},
   "source": [
    "## Import Library"
   ]
  },
  {
   "cell_type": "code",
   "execution_count": null,
   "metadata": {},
   "outputs": [],
   "source": [
    "# Import Elveflow library\n",
    "import sys\n",
    "from email.header import UTF8\n",
    "SDK_HOME = 'C:/Users/T5810/Downloads/ESI_V3_04_01/SDK'\n",
    "sys.path.append(SDK_HOME+'/DLL64/DLL64')#add the path of the library here\n",
    "sys.path.append(SDK_HOME+'/Python_64')#add the path of the LoadElveflow.py\n",
    "\n",
    "from ctypes import *\n",
    "\n",
    "from array import array\n",
    "\n",
    "from Elveflow64 import *"
   ]
  },
  {
   "cell_type": "markdown",
   "metadata": {},
   "source": [
    "## Instrument Class definitions"
   ]
  },
  {
   "cell_type": "code",
   "execution_count": null,
   "metadata": {},
   "outputs": [],
   "source": [
    "def _check_error(task, error):\n",
    "    err_dict = {\n",
    "        -8000: 'No Digital Sensor found',\n",
    "        -8001: 'No pressure sensor compatible with OB1 MK3',\n",
    "        -8002: 'No Digital pressure sensor compatible with OB1 MK3+',\n",
    "        -8003: 'No Digital Flow sensor compatible with OB1 MK3',\n",
    "        -8004: 'No IPA config for this sensor',\n",
    "        -8005: 'Sensor not compatible with AF1',\n",
    "        -8006: 'No Instrument with selected ID'\n",
    "    }\n",
    "    if error != 0:\n",
    "        if error in err_dict:\n",
    "            raise RuntimeError('{} failed with error code {}\\n{}'.format(task, error, err_dict[error]))\n",
    "        else:\n",
    "            raise RuntimeError('{} failed with error code {}\\n{}'.format(task, error, 'Unknown error, see http://www.ni.com/pdf/manuals/321551a.pdf'))\n",
    "            \n",
    "class ob1():\n",
    "    def __init__(self, address=calibrate=False):        \n",
    "        address='01C1690E'\n",
    "        self.Instr_ID = c_int32()\n",
    "        print('Instrument name and regulator types hardcoded in the python script'.encode('utf-8'))\n",
    "        # see User guide to determine regulator type NI MAX to determine the instrument name\n",
    "        # channel 1: -1000~1000 mBar, channel 2: none, channel 3: none, channel 4:none\n",
    "        error = OB1_Initialization(address.encode('ascii'), 4, 0, 0, 0, byref(self.instr_ID))\n",
    "        # all functions will return error code to help you to debug your code, for further information see user guide\n",
    "        _check_error('OB1 Initialization', error)\n",
    "\n",
    "        # add one digital flow sensor to OB1 channel 1, 1mL/min, digital, water calibration, 16bit resolution, \n",
    "        error=OB1_Add_Sens(self.Instr_ID, 1, 5, 1, 0, 7, 0)\n",
    "        _check_error('Adding digital flow sensor', error)\n",
    "\n",
    "        calib_path = os.path.expanduser(r'./ob1_calibration.txt')\n",
    "        self.Calib = (c_double * 1000)()\n",
    "        if calibrate:\n",
    "            print ('Starting calibration')\n",
    "            OB1_Calib(self.Instr_ID.value, self.Calib, 1000)\n",
    "            error = Elveflow_Calibration_Save(calib_path.encode('ascii'), byref(self.calib), 1000)\n",
    "            print ('Calibration finished')\n",
    "            print ('Calibration saved in file %s' % calib_path.encode('ascii'))\n",
    "        else:\n",
    "            if not os.path.isfile(calib_path):\n",
    "                raise IOError('Calibration file \"{}\" does not exist'.format(calib_path))               \n",
    "            error = Elveflow_Calibration_Load(calib_path.encode('ascii'), byref(self.Calib), 1000)\n",
    "            _check_error('Loading calibration file', error)\n",
    "\n",
    "    def measure(self, channel=1):\n",
    "        \"\"\"\n",
    "        Measures the instantaneous flow rate, on designated port.\n",
    "        \"\"\"\n",
    "        set_channel = int(channel)  # convert to int\n",
    "        set_channel = c_int32(channel)  # convert to c_int32\n",
    "        get_flowrate = c_double()\n",
    "        error = OB1_Get_Sens_Data(self.instr_ID.value, set_channel, 1, byref(get_pressure))  # Acquire_data =1 -> Read all the analog value\n",
    "        _check_error('Getting data from flow sensor', error)\n",
    "        return get_flowrate.value\n",
    "\n",
    "    def set_pressure(self, pressure, channel=1):\n",
    "        \"\"\"\n",
    "        Sets the pressure, on designated port.\n",
    "        Parameters:\n",
    "            pressure: target pressure in mBar (-1000 to 8000)\n",
    "            channel: ob1 channel to set (1-4)\n",
    "        return: error code\n",
    "            0 : successful\n",
    "            -1 : parameter error\n",
    "            \n",
    "        \"\"\"      \n",
    "        \n",
    "        # check parameters\n",
    "        if pressure >8000.0 or pressure < -1000.0:\n",
    "            print('set_pressure: Error pressure must be within -1000~8000')\n",
    "            return -1\n",
    "        if channel <1 or channel > 4:\n",
    "            print('set_pressure: channel must be within 1~4')\n",
    "            return -1\n",
    "        \n",
    "        set_channel=c_int32(channel)#convert to c_int32        \n",
    "        set_pressure=c_double(pressure) #convert to c_double        \n",
    "        error=OB1_Set_Press(self.Instr_ID.value, set_channel, set_pressure, byref(self.Calib),1000) \n",
    "        _check_error('Setting pressure', error)\n",
    "        \n",
    "        return error\n",
    "    \n",
    "    def __del__(self):\n",
    "        error=OB1_Destructor(self.Instr_ID.value)"
   ]
  },
  {
   "cell_type": "code",
   "execution_count": 5,
   "metadata": {},
   "outputs": [
    {
     "ename": "RuntimeError",
     "evalue": "test failed with error code 1\nUnknown error, see http://www.ni.com/pdf/manuals/321551a.pdf",
     "output_type": "error",
     "traceback": [
      "\u001b[1;31m---------------------------------------------------------------------------\u001b[0m",
      "\u001b[1;31mRuntimeError\u001b[0m                              Traceback (most recent call last)",
      "\u001b[1;32m<ipython-input-5-483fd1f076f1>\u001b[0m in \u001b[0;36m<module>\u001b[1;34m\u001b[0m\n\u001b[0;32m     14\u001b[0m         \u001b[1;32mraise\u001b[0m \u001b[0mRuntimeError\u001b[0m\u001b[1;33m(\u001b[0m\u001b[1;34m'{} failed with error code {}\\n{}'\u001b[0m\u001b[1;33m.\u001b[0m\u001b[0mformat\u001b[0m\u001b[1;33m(\u001b[0m\u001b[0mtask\u001b[0m\u001b[1;33m,\u001b[0m \u001b[0merror\u001b[0m\u001b[1;33m,\u001b[0m \u001b[0merr_dict\u001b[0m\u001b[1;33m[\u001b[0m\u001b[0merror\u001b[0m\u001b[1;33m]\u001b[0m\u001b[1;33m)\u001b[0m\u001b[1;33m)\u001b[0m\u001b[1;33m\u001b[0m\u001b[1;33m\u001b[0m\u001b[0m\n\u001b[0;32m     15\u001b[0m     \u001b[1;32melse\u001b[0m\u001b[1;33m:\u001b[0m\u001b[1;33m\u001b[0m\u001b[1;33m\u001b[0m\u001b[0m\n\u001b[1;32m---> 16\u001b[1;33m         \u001b[1;32mraise\u001b[0m \u001b[0mRuntimeError\u001b[0m\u001b[1;33m(\u001b[0m\u001b[1;34m'{} failed with error code {}\\n{}'\u001b[0m\u001b[1;33m.\u001b[0m\u001b[0mformat\u001b[0m\u001b[1;33m(\u001b[0m\u001b[0mtask\u001b[0m\u001b[1;33m,\u001b[0m \u001b[0merror\u001b[0m\u001b[1;33m,\u001b[0m \u001b[1;34m'Unknown error, see http://www.ni.com/pdf/manuals/321551a.pdf'\u001b[0m\u001b[1;33m)\u001b[0m\u001b[1;33m)\u001b[0m\u001b[1;33m\u001b[0m\u001b[1;33m\u001b[0m\u001b[0m\n\u001b[0m",
      "\u001b[1;31mRuntimeError\u001b[0m: test failed with error code 1\nUnknown error, see http://www.ni.com/pdf/manuals/321551a.pdf"
     ]
    }
   ],
   "source": [
    "task = 'test'\n",
    "error = 1\n",
    "err_dict = {\n",
    "        -8000: 'No Digital Sensor found',\n",
    "        -8001: 'No pressure sensor compatible with OB1 MK3',\n",
    "        -8002: 'No Digital pressure sensor compatible with OB1 MK3+',\n",
    "        -8003: 'No Digital Flow sensor compatible with OB1 MK3',\n",
    "        -8004: 'No IPA config for this sensor',\n",
    "        -8005: 'Sensor not compatible with AF1',\n",
    "        -8006: 'No Instrument with selected ID'\n",
    "    }\n",
    "if error != 0:\n",
    "    if error in err_dict:\n",
    "        raise RuntimeError('{} failed with error code {}\\n{}'.format(task, error, err_dict[error]))\n",
    "    else:\n",
    "        raise RuntimeError('{} failed with error code {}\\n{}'.format(task, error, 'Unknown error, see http://www.ni.com/pdf/manuals/321551a.pdf'))"
   ]
  },
  {
   "cell_type": "code",
   "execution_count": null,
   "metadata": {},
   "outputs": [],
   "source": [
    "time_step"
   ]
  },
  {
   "cell_type": "code",
   "execution_count": null,
   "metadata": {},
   "outputs": [],
   "source": []
  }
 ],
 "metadata": {
  "kernelspec": {
   "display_name": "Python 3",
   "language": "python",
   "name": "python3"
  },
  "language_info": {
   "codemirror_mode": {
    "name": "ipython",
    "version": 3
   },
   "file_extension": ".py",
   "mimetype": "text/x-python",
   "name": "python",
   "nbconvert_exporter": "python",
   "pygments_lexer": "ipython3",
   "version": "3.8.5"
  }
 },
 "nbformat": 4,
 "nbformat_minor": 4
}
