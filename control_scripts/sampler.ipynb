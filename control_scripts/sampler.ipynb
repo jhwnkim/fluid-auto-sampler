{
 "cells": [
  {
   "cell_type": "markdown",
   "metadata": {},
   "source": [
    "# Auto Sampler script\n",
    "## Elveflow Instruments\n",
    "* OB1 pressure controller\n",
    "* MUX Wire\n",
    "* "
   ]
  },
  {
   "cell_type": "code",
   "execution_count": null,
   "metadata": {},
   "outputs": [],
   "source": []
  },
  {
   "cell_type": "markdown",
   "metadata": {},
   "source": [
    "## Import Libraries"
   ]
  },
  {
   "cell_type": "code",
   "execution_count": 97,
   "metadata": {},
   "outputs": [],
   "source": [
    "%reset -f\n",
    "\n",
    "# Import Elveflow library\n",
    "import sys\n",
    "import os\n",
    "from email.header import UTF8\n",
    "# SDK_HOME = 'C:/Users/Admin/ELVEFLOW/SDK_V3_04_04'\n",
    "SDK_HOME = 'C:/Users/Admin/ELVEFLOW/ESI_V3_04_01/SDK V3_04_01'\n",
    "sys.path.append(SDK_HOME+'/DLL64/DLL64')#add the path of the library here\n",
    "sys.path.append(SDK_HOME+'/Python_64')#add the path of the LoadElveflow.py\n",
    "\n",
    "from ctypes import *\n",
    "\n",
    "from array import array\n",
    "\n",
    "from Elveflow64 import *"
   ]
  },
  {
   "cell_type": "markdown",
   "metadata": {},
   "source": [
    "## Instrument Class definitions"
   ]
  },
  {
   "cell_type": "code",
   "execution_count": 98,
   "metadata": {},
   "outputs": [],
   "source": [
    "Z_regulator_type = {\n",
    "    'none': 0,\n",
    "    '0_200_mbar': 1,\n",
    "    '0_2000_mbar': 2,    \n",
    "    '0_8000_mbar': 3,\n",
    "    'm1000_1000_mbar': 4,\n",
    "    'm1000_6000_mbar': 5\n",
    "}\n",
    "Z_sensor_type = {\n",
    "    'none': 0,\n",
    "    'Flow_1_5_uL_min': 1,\n",
    "    'Flow_7_uL_min': 2,\n",
    "    'Flow_50_uL_min': 3,\n",
    "    'Flow_80_uL_min': 4,\n",
    "    'Flow_1000_uL_min': 5,\n",
    "    'Flow_5000_uL_min': 6,\n",
    "    'Press_340_mbar': 7,\n",
    "    'Press_1_bar': 8,\n",
    "    'Press_2_bar': 9,\n",
    "    'Press_7_bar': 10,\n",
    "    'Press_16_bar': 11,\n",
    "    'Level': 12\n",
    "}\n",
    "\n",
    "def _check_error(task, error):\n",
    "    err_dict = {\n",
    "        -8000: 'No Digital Sensor found',\n",
    "        -8001: 'No pressure sensor compatible with OB1 MK3',\n",
    "        -8002: 'No Digital pressure sensor compatible with OB1 MK3+',\n",
    "        -8003: 'No Digital Flow sensor compatible with OB1 MK3',\n",
    "        -8004: 'No IPA config for this sensor',\n",
    "        -8005: 'Sensor not compatible with AF1',\n",
    "        -8006: 'No Instrument with selected ID'\n",
    "    }\n",
    "    if error != 0:\n",
    "        if error in err_dict:\n",
    "            raise RuntimeError('{} failed with error code {}\\n{}'.format(task, error, err_dict[error]))\n",
    "        else:\n",
    "            raise RuntimeError('{} failed with error code {}\\n{}'.format(task, error, 'Unknown error, see http://www.ni.com/pdf/manuals/321551a.pdf'))\n",
    "            \n",
    "class ob1():\n",
    "    def __init__(self, address='01EF64C3', calibrate=False):\n",
    "        self.Instr_ID = c_int32()\n",
    "        print('Instrument name and regulator types hardcoded in the python script'.encode('utf-8'))\n",
    "        # see User guide to determine regulator type NI MAX to determine the instrument name\n",
    "        # channel 1: -1000~1000 mBar, channel 2: none, channel 3: none, channel 4:none\n",
    "        error = OB1_Initialization(address.encode('ascii'), \n",
    "                                   Z_regulator_type['m1000_1000_mbar'], \n",
    "                                   Z_regulator_type['none'], \n",
    "                                   Z_regulator_type['none'], \n",
    "                                   Z_regulator_type['none'], \n",
    "                                   byref(self.Instr_ID))\n",
    "        # all functions will return error code to help you to debug your code, for further information see user guide\n",
    "        _check_error('OB1 Initialization', error)\n",
    "\n",
    "        # add one digital flow sensor to OB1 channel 1, 1mL/min, digital, water calibration, 16bit resolution, \n",
    "#         error=OB1_Add_Sens(self.Instr_ID, 1, Z_sensor_type['Flow_1000_uL_min'], 1, 0, 7, 0)\n",
    "        # add one digital flow sensor to OB1 channel 1, 5mL/min, digital, water calibration, 16bit resolution, \n",
    "        error=OB1_Add_Sens(self.Instr_ID, 1, Z_sensor_type['Flow_5000_uL_min'], 1, 0, 7, 0)\n",
    "        _check_error('Adding digital flow sensor', error)\n",
    "\n",
    "        self.calib_path = os.path.abspath('ob1_calibration.txt')\n",
    "        print(self.calib_path)\n",
    "        self.Calib = (c_double * 1000)()\n",
    "        if calibrate:\n",
    "            print ('Starting calibration')\n",
    "            OB1_Calib(self.Instr_ID.value, self.Calib, 1000)\n",
    "            error = Elveflow_Calibration_Save(self.calib_path.encode('ascii'), byref(self.Calib), 1000)\n",
    "            print ('Calibration finished')\n",
    "            print ('Calibration saved in file %s' % self.calib_path.encode('ascii'))\n",
    "        else:\n",
    "            if not os.path.isfile(self.calib_path):\n",
    "                raise IOError('Calibration file \"{}\" does not exist'.format(self.calib_path))               \n",
    "            error = Elveflow_Calibration_Load(self.calib_path.encode('ascii'), byref(self.Calib), 1000)\n",
    "            _check_error('Loading calibration file', error)            \n",
    "            \n",
    "        self.set_pressure(0)\n",
    "\n",
    "    def meas_flowrate(self, channel=1):\n",
    "        \"\"\"\n",
    "        Measures the instantaneous flow rate, on designated port.\n",
    "        Parameters:\n",
    "            channel: ob1 channel to set (1-4), defaults to 1\n",
    "        return: (flowrate, error code)\n",
    "            flowrate in uL/min\n",
    "            0 : successful\n",
    "            -1 : parameter error\n",
    "            otherwise: NI error\n",
    "        \"\"\"\n",
    "        if channel <1 or channel > 4:\n",
    "            print('ob1.meas_flowrate: channel must be within 1~4')\n",
    "            return -1\n",
    "        \n",
    "        set_channel = c_int32(channel)  # convert to c_int32\n",
    "        get_flowrate = c_double(0.0)\n",
    "        error = OB1_Get_Sens_Data(self.Instr_ID.value, set_channel, Acquire_Data1True0False=1, Sens_Data=byref(get_flowrate))  # Acquire_data =1 -> Read all the analog value\n",
    "#         print('Press or Flow ch', set_channel.value,': ',get_flowrate.value)\n",
    "#         _check_error('Getting data from flow sensor', error)\n",
    "        \n",
    "        return get_flowrate.value, error\n",
    "\n",
    "    def set_pressure(self, pressure, channel=1):\n",
    "        \"\"\"\n",
    "        Sets the pressure, on designated port.\n",
    "        Parameters:\n",
    "            pressure: target pressure in mBar (-1000 to 8000)\n",
    "            channel: ob1 channel to set (1-4), defaults to 1\n",
    "        return: error code\n",
    "            0 : successful\n",
    "            -1 : parameter error\n",
    "            otherwise: NI error\n",
    "        \"\"\"      \n",
    "        \n",
    "        # check parameters\n",
    "        if pressure >8000.0 or pressure < -1000.0:\n",
    "            print('ob1.set_pressure: Error pressure must be within -1000~8000')\n",
    "            return -1\n",
    "        if channel <1 or channel > 4:\n",
    "            print('set_pressure: channel must be within 1~4')\n",
    "            return -1\n",
    "        \n",
    "        set_channel=c_int32(channel)#convert to c_int32        \n",
    "        set_pressure=c_double(pressure) #convert to c_double        \n",
    "        error=OB1_Set_Press(self.Instr_ID.value, set_channel, set_pressure, byref(self.Calib),1000) \n",
    "        _check_error('Setting pressure', error)\n",
    "        \n",
    "        return error\n",
    "    \n",
    "    def meas_pressure(self, channel=1):\n",
    "        \"\"\"\n",
    "        Measures the instantaneous pressure, on designated channel.\n",
    "        Parameters:\n",
    "            channel: ob1 channel to set (1-4), defaults to 1\n",
    "        return: (pressure, error code)\n",
    "            flowrate in mBar\n",
    "            0 : successful\n",
    "            -1 : parameter error\n",
    "            otherwise: NI error\n",
    "        \"\"\"\n",
    "        if channel <1 or channel > 4:\n",
    "            print('ob1.meas_pressure: channel must be within 1~4')\n",
    "            return -1\n",
    "        \n",
    "        set_channel = c_int32(channel)  # convert to c_int32\n",
    "        get_pressure = c_double(0.0)\n",
    "        error = OB1_Get_Press(self.Instr_ID.value, set_channel, Acquire_Data1True0False=1, Calib_array_in=self.Calib, Pressure=byref(get_pressure), Calib_Array_len=1000)  # Acquire_data =1 -> Read all the analog value\n",
    "        print('Press ch 1: ',get_pressure.value)\n",
    "#         _check_error('Getting pressure from OB1', error)\n",
    "        \n",
    "        return get_pressure.value, error\n",
    "    \n",
    "    def __del__(self):\n",
    "        self.set_pressure(0)\n",
    "        error=OB1_Destructor(self.Instr_ID.value)\n",
    "        \n",
    "class mux_wire():\n",
    "    def __init__(self, address='Dev2'):\n",
    "        self.Instr_ID = c_int32()\n",
    "        # see User guide to determine regulator type NI MAX to determine the instrument name\n",
    "        error = MUX_Initialization(address.encode('ascii'), byref(self.Instr_ID))\n",
    "        # all functions will return error code to help you to debug your code, for further information see user guide\n",
    "        _check_error('MUX Initialization', error)\n",
    "        print(error)\n",
    "        \n",
    "        self.state = [0]*8\n",
    "        \n",
    "    def set_all_valves(self, state):\n",
    "        \"\"\"\n",
    "        Sets state of all valves\n",
    "        Parameters:\n",
    "            state: 8 integer (0: close, 1: open)\n",
    "        return: error code\n",
    "            0 : successful\n",
    "            -1 : parameter error\n",
    "            otherwise: NI error\n",
    "        \"\"\"\n",
    "        if not (isinstance(state, list) and len(state) == 8):\n",
    "            print('Error mux_wire.set_all_valves: state has to be a list of 8 integers')\n",
    "            return -1\n",
    "        \n",
    "        self.state = state\n",
    "        valve_state=(c_int32*16)(0)\n",
    "        for i in range(8):\n",
    "            valve_state[i]=c_int32(state[i]) \n",
    "            \n",
    "        error=MUX_Wire_Set_all_valves(self.Instr_ID.value, valve_state, 16)\n",
    "        \n",
    "        return error     \n",
    "    \n",
    "    def set_valve(self, channel, state):\n",
    "        \"\"\"\n",
    "        Sets state of a certain valve\n",
    "        Parameters:\n",
    "            channel: integer (1-8)\n",
    "            state: integer (0: close to N.O., 1: open to N.C.)\n",
    "        return: error code\n",
    "            0 : successful\n",
    "            -1 : parameter error\n",
    "            otherwise: NI error\n",
    "        \"\"\"\n",
    "        if not isinstance(state, int):\n",
    "            print('Error mux_wire.set_valve: state has to be an integer')\n",
    "            return -1\n",
    "        if not (isinstance(channel, int) and channel>0 and channel<9) :\n",
    "            print('Error mux_wire.set_valve: channel has to be integer (1-8)')\n",
    "            return -1\n",
    "                \n",
    "        self.state[channel-1] = state\n",
    "        valve_state=(c_int32*16)(0)\n",
    "        for i in range(8):\n",
    "            valve_state[i]=c_int32(self.state[i]) \n",
    "            \n",
    "        error=MUX_Wire_Set_all_valves(self.Instr_ID.value, valve_state, 16)\n",
    "        \n",
    "    def get_state(self):\n",
    "        \"\"\"\n",
    "        Returns state of current valves: list of 8 integers\n",
    "        \"\"\"\n",
    "        return self.state\n",
    "            \n",
    "    def __del__(self):\n",
    "        error=MUX_Destructor(self.Instr_ID.value)\n",
    "        \n",
    "class msr():\n",
    "    def __init__(self, address='01EE3A2D'):\n",
    "        self.Instr_ID = c_int32()\n",
    "        # see User guide to determine regulator type NI MAX to determine theerror=M_S_R_D_Initialization('01DAA568'.encode('ascii'),5,0,0,0,0,0,byref(Instr_ID)) \n",
    "        \n",
    "        error = M_S_R_D_Initialization(address.encode('ascii'),\n",
    "                                       Sens_Ch_1=Z_sensor_type['Flow_5000_uL_min'],\n",
    "                                       Sens_Ch_2=Z_sensor_type['none'],\n",
    "                                       Sens_Ch_3=Z_sensor_type['Flow_1000_uL_min'],\n",
    "                                       Sens_Ch_4=Z_sensor_type['none'],\n",
    "                                       CustomSens_Voltage_Ch12=5,  # 5-25V unused for digital sensors\n",
    "                                       CustomSens_Voltage_Ch34=5,  # 5-25V unused for digital sensors\n",
    "                                       MSRD_ID_out=byref(self.Instr_ID))\n",
    "        # all functions will return error code to help you to debug your code, for further information see user guide\n",
    "        _check_error('MSR Initialization', error)\n",
    "        print(error)\n",
    "        \n",
    "        # Add sensors\n",
    "        #   on channel 1\n",
    "        error =  M_S_R_D_Add_Sens(self.Instr_ID.value, \n",
    "                                  Channel_1_to_4         = c_int32(1),\n",
    "                                  SensorType             = Z_sensor_type['Flow_5000_uL_min'],\n",
    "                                  DigitalAnalog          = c_uint16(1), # Digital\n",
    "                                  FSens_Digit_Calib      = c_uint16(0), # water calibration\n",
    "                                  FSens_Digit_Resolution = c_uint16(0)) # 16 bit\n",
    "        \n",
    "        print('error add digital flow sensor on channel 1:%d' % error)\n",
    "        \n",
    "        #   on channel 3\n",
    "        error =  M_S_R_D_Add_Sens(self.Instr_ID.value, \n",
    "                                  Channel_1_to_4         = c_int32(3),\n",
    "                                  SensorType             = Z_sensor_type['Flow_1000_uL_min'],\n",
    "                                  DigitalAnalog          = c_uint16(1), # Digital\n",
    "                                  FSens_Digit_Calib      = c_uint16(0), # water calibration\n",
    "                                  FSens_Digit_Resolution = c_uint16(0)) # 16 bit\n",
    "        \n",
    "        print('error add digital flow sensor on channel 3:%d' % error)\n",
    "        \n",
    "        \n",
    "    def meas_flowrate(self, channel=1):\n",
    "        \"\"\"\n",
    "        Measures the instantaneous flow rate, on designated port.\n",
    "        Parameters:\n",
    "            channel: MSR channel to set (1-4), defaults to 1\n",
    "        return: (flowrate, error code)\n",
    "            flowrate in uL/min\n",
    "            0 : successful\n",
    "            -1 : parameter error\n",
    "            otherwise: NI error\n",
    "        \"\"\"\n",
    "        if channel <1 or channel > 4:\n",
    "            print('msr.meas_flowrate: channel must be within 1~4')\n",
    "            return -1\n",
    "        \n",
    "        set_channel = c_int32(channel)  # convert to c_int32\n",
    "        get_flowrate = c_double(0.0)\n",
    "        error = M_S_R_D_Get_Sens_Data(Channel_1_to_4=set_channel,\n",
    "                                      M_S_R_D_ID=self.Instr_ID.value, \n",
    "                                      Sens_Data=byref(get_flowrate))\n",
    "        \n",
    "        return get_flowrate.value, error\n",
    "    \n",
    "    def __del__(self):\n",
    "        error=M_S_R_D_Destructor(self.Instr_ID.value)\n",
    "        \n",
    "class sampler():\n",
    "    def __init__(self):\n",
    "        \"\"\"\n",
    "        Initialization\n",
    "        \"\"\"\n",
    "        self.ob1 = ob1(calibrate=False)\n",
    "        self.mux_wire = mux_wire()\n",
    "        \n",
    "    def set_valves(self, reservoir, target):\n",
    "        \"\"\"\n",
    "        Sets valve configuration of sampling system\n",
    "        \"\"\"\n",
    "        state = self.mux_wire.get_state()\n",
    "        if reservoir=='air':\n",
    "#             print('sampler.set_valves: Set air reservoir')\n",
    "            state[1] = 0\n",
    "        elif reservoir == 'water':\n",
    "            state[1] = 1\n",
    "            \n",
    "        if target=='waste':\n",
    "            state[0] = 0\n",
    "        elif target == 'tflask':\n",
    "            state[0] = 1\n",
    "            \n",
    "        error = self.mux_wire.set_all_valves(state)\n",
    "        \n",
    "        return error\n",
    "    \n",
    "    def pushpull(self, mode, target, pressure = -10):\n",
    "        \"\"\"\n",
    "        Push or pulls a certain volume or for some time using OB1 and connected flow sensor        \n",
    "        Parameters:\n",
    "            mode: integer (0: time mode, 1: volume mode)\n",
    "            target: float (in seconds and uL)\n",
    "            pressure: float (pressure in mbar)\n",
    "        return: timestamp, volume\n",
    "        \"\"\"\n",
    "        from time import time, sleep\n",
    "        timeout = 30 # seconds\n",
    "        time_step = 0.5\n",
    "        \n",
    "        if mode >1 or mode <0:\n",
    "            print('Error sampler.pull: mode has to be integer 0 or 1')\n",
    "            return -1\n",
    "        if target < 0 :\n",
    "            print('Error sampler.pull: target has to be a positive float')\n",
    "            return -1\n",
    "        vol_data = []\n",
    "        time_data = []\n",
    "        cur_vol = 0.0\n",
    "        \n",
    "        \n",
    "        self.ob1.set_pressure(pressure)\n",
    "        start_time = time()\n",
    "        cur_time = time()\n",
    "        if mode == 0: # timer mode            \n",
    "            while cur_time-start_time < target:                \n",
    "                flowrate,error = self.ob1.meas_flowrate()\n",
    "                \n",
    "                next_time = time()\n",
    "                cur_vol = cur_vol + flowrate/60*(next_time-cur_time)\n",
    "                cur_time = time()\n",
    "                \n",
    "                vol_data.append(cur_vol)\n",
    "                time_data.append(cur_time)\n",
    "                print('{} uL/min, cumulative {} uL at {} sec'.format(flowrate, cur_vol, cur_time-start_time))\n",
    "                \n",
    "                sleep(time_step)\n",
    "                \n",
    "        elif mode == 1:   # volume mode\n",
    "            if pressure <0:\n",
    "                pol = -1.0\n",
    "            else:\n",
    "                pol = 1.0\n",
    "            while cur_time-start_time < timeout and pol*cur_vol < target:\n",
    "                flowrate,error = self.ob1.meas_flowrate()\n",
    "                \n",
    "                next_time = time()\n",
    "                cur_vol = cur_vol + flowrate/60*(next_time-cur_time)\n",
    "                cur_time = time()\n",
    "                \n",
    "                vol_data.append(cur_vol)\n",
    "                time_data.append(cur_time)\n",
    "                print('{} uL/min, cumulative {} uL at {} sec'.format(flowrate, cur_vol, cur_time-start_time))\n",
    "                \n",
    "                sleep(time_step)\n",
    "                \n",
    "        self.ob1.set_pressure(0)\n",
    "        \n",
    "        return time_data, vol_data\n",
    "    \n",
    "    def __del__(self):\n",
    "        \n",
    "        self.set_valves('air', 'waste')\n",
    "        self.ob1.set_pressure(0)\n",
    "        "
   ]
  },
  {
   "cell_type": "code",
   "execution_count": 99,
   "metadata": {},
   "outputs": [
    {
     "name": "stdout",
     "output_type": "stream",
     "text": [
      "b'Instrument name and regulator types hardcoded in the python script'\n",
      "C:\\Users\\Admin\\Documents\\GitHub\\fluid-auto-sampler\\control_scripts\\ob1_calibration.txt\n",
      "0\n"
     ]
    },
    {
     "data": {
      "text/plain": [
       "0"
      ]
     },
     "execution_count": 99,
     "metadata": {},
     "output_type": "execute_result"
    }
   ],
   "source": [
    "poe = sampler()\n",
    "\n",
    "poe.set_valves('air', 'waste')\n",
    "poe.ob1.set_pressure(0)\n"
   ]
  },
  {
   "cell_type": "code",
   "execution_count": 96,
   "metadata": {},
   "outputs": [],
   "source": [
    "del poe"
   ]
  },
  {
   "cell_type": "code",
   "execution_count": 38,
   "metadata": {},
   "outputs": [
    {
     "name": "stdout",
     "output_type": "stream",
     "text": [
      "0\n",
      "error add digital flow sensor on channel 1:0\n",
      "error add digital flow sensor on channel 3:0\n"
     ]
    }
   ],
   "source": [
    "sens = msr()"
   ]
  },
  {
   "cell_type": "code",
   "execution_count": 56,
   "metadata": {},
   "outputs": [
    {
     "data": {
      "text/plain": [
       "(-4.310344827586207, 0)"
      ]
     },
     "execution_count": 56,
     "metadata": {},
     "output_type": "execute_result"
    }
   ],
   "source": [
    "sens.meas_flowrate(channel=3)"
   ]
  },
  {
   "cell_type": "code",
   "execution_count": 57,
   "metadata": {},
   "outputs": [],
   "source": [
    "del sens"
   ]
  },
  {
   "cell_type": "code",
   "execution_count": 94,
   "metadata": {},
   "outputs": [
    {
     "data": {
      "text/plain": [
       "0"
      ]
     },
     "execution_count": 94,
     "metadata": {},
     "output_type": "execute_result"
    }
   ],
   "source": [
    "poe.set_valves('air', 'waste')"
   ]
  },
  {
   "cell_type": "code",
   "execution_count": 107,
   "metadata": {},
   "outputs": [
    {
     "data": {
      "text/plain": [
       "0"
      ]
     },
     "execution_count": 107,
     "metadata": {},
     "output_type": "execute_result"
    }
   ],
   "source": [
    "poe.set_valves('air', 'tflask')"
   ]
  },
  {
   "cell_type": "code",
   "execution_count": 108,
   "metadata": {},
   "outputs": [
    {
     "data": {
      "text/plain": [
       "0"
      ]
     },
     "execution_count": 108,
     "metadata": {},
     "output_type": "execute_result"
    }
   ],
   "source": [
    "poe.ob1.set_pressure(200)"
   ]
  },
  {
   "cell_type": "code",
   "execution_count": 7,
   "metadata": {},
   "outputs": [
    {
     "data": {
      "text/plain": [
       "0"
      ]
     },
     "execution_count": 7,
     "metadata": {},
     "output_type": "execute_result"
    }
   ],
   "source": [
    "poe.ob1.set_pressure(5)"
   ]
  },
  {
   "cell_type": "code",
   "execution_count": 113,
   "metadata": {},
   "outputs": [
    {
     "data": {
      "text/plain": [
       "0"
      ]
     },
     "execution_count": 113,
     "metadata": {},
     "output_type": "execute_result"
    }
   ],
   "source": [
    "poe.ob1.set_pressure(0)"
   ]
  },
  {
   "cell_type": "code",
   "execution_count": 123,
   "metadata": {},
   "outputs": [
    {
     "data": {
      "text/plain": [
       "(6.0, 0)"
      ]
     },
     "execution_count": 123,
     "metadata": {},
     "output_type": "execute_result"
    }
   ],
   "source": [
    "poe.ob1.meas_flowrate()"
   ]
  },
  {
   "cell_type": "code",
   "execution_count": 50,
   "metadata": {},
   "outputs": [
    {
     "name": "stdout",
     "output_type": "stream",
     "text": [
      "Press ch 1:  3.9587616007997894\n"
     ]
    },
    {
     "data": {
      "text/plain": [
       "(3.9587616007997894, 0)"
      ]
     },
     "execution_count": 50,
     "metadata": {},
     "output_type": "execute_result"
    }
   ],
   "source": [
    "poe.ob1.meas_pressure()"
   ]
  },
  {
   "cell_type": "code",
   "execution_count": 125,
   "metadata": {},
   "outputs": [
    {
     "name": "stdout",
     "output_type": "stream",
     "text": [
      "Time 0.013001: err=  194 err_i= 29.1 y=    6 x=60.787\n",
      "Time 0.17001: err=189.2 err_i=57.48 y= 10.8 x=58.636\n",
      "Time 0.33002: err=169.4 err_i=82.89 y= 30.6 x=58.268\n",
      "Time 0.48803: err=169.4 err_i=108.3 y= 30.6 x=64.01\n",
      "Time 0.64904: err=149.4 err_i=130.71 y= 50.6 x=62.825\n",
      "Time 0.80905: err=144.4 err_i=152.37 y= 55.6 x=66.407\n",
      "Time 0.96606: err=  139 err_i=173.22 y=   61 x=69.214\n",
      "Time 1.1261: err=102.4 err_i=188.58 y= 97.6 x=62.096\n",
      "Time 1.2861: err=107.8 err_i=204.75 y= 92.2 x=68.08\n",
      "Time 1.4461: err= 78.6 err_i=216.54 y=121.4 x=61.985\n",
      "Time 1.6041: err= 79.2 err_i=228.42 y=120.8 x=65.504\n",
      "Time 1.7641: err= 73.6 err_i=239.46 y=126.4 x=66.105\n",
      "Time 1.9241: err= 48.2 err_i=246.69 y=151.8 x=60.541\n",
      "Time 2.0841: err= 48.4 err_i=253.95 y=151.6 x=62.897\n",
      "Time 2.2441: err= 34.8 err_i=259.17 y=165.2 x=60.081\n",
      "Time 2.4021: err= 34.8 err_i=264.39 y=165.2 x=61.578\n",
      "Time 2.5621: err= 34.2 err_i=269.52 y=165.8 x=62.434\n",
      "Time 2.7222: err= 16.2 err_i=271.95 y=183.8 x=57.84\n",
      "Time 2.8822: err= 12.4 err_i=273.81 y=187.6 x=57.735\n",
      "Time 3.0432: err= 34.2 err_i=278.94 y=165.8 x=65.065\n",
      "Time 3.2032: err= 12.4 err_i=280.8 y=187.6 x=58.533\n",
      "Time 3.3612: err=  4.6 err_i=281.49 y=195.4 x=57.188\n",
      "Time 3.5212: err= 12.4 err_i=283.35 y=187.6 x=60.03\n",
      "Time 3.6812: err= 27.4 err_i=287.46 y=172.6 x=64.842\n",
      "Time 3.8412: err= 19.8 err_i=290.43 y=180.2 x=62.783\n",
      "Time 4.0012: err=   20 err_i=293.43 y=  180 x=63.693\n",
      "Time 4.1622: err=    4 err_i=294.03 y=  196 x=59.273\n",
      "Time 4.3192: err=  2.8 err_i=294.45 y=197.2 x=59.55\n",
      "Time 4.4773: err= 11.4 err_i=296.16 y=188.6 x=62.369\n",
      "Time 4.6353: err= 12.4 err_i=298.02 y=187.6 x=62.737\n",
      "Time 4.7953: err= 12.4 err_i=299.88 y=187.6 x=63.076\n",
      "Time 4.9563: err= 19.8 err_i=302.85 y=180.2 x=65.767\n",
      "Time 5.1173: err= 12.4 err_i=304.71 y=187.6 x=63.795\n",
      "Time 5.2773: err= 19.8 err_i=307.68 y=180.2 x=66.733\n",
      "Time 5.4373: err=  2.8 err_i=308.1 y=197.2 x=61.753\n",
      "Time 5.5973: err=    4 err_i=308.7 y=  196 x=62.78\n",
      "Time 5.7573: err=  -12 err_i=306.9 y=  212 x=57.847\n",
      "Time 5.9173: err= 12.4 err_i=308.76 y=187.6 x=65.665\n",
      "Time 6.0773: err= 11.4 err_i=310.47 y=188.6 x=64.911\n",
      "Time 6.2374: err=-21.2 err_i=307.29 y=221.2 x=55.071\n",
      "Time 6.3974: err=    4 err_i=307.89 y=  196 x=63.418\n",
      "Time 6.5574: err= -6.2 err_i=306.96 y=206.2 x=59.502\n",
      "Time 6.7174: err=  4.6 err_i=307.65 y=195.4 x=63.04\n",
      "Time 6.8774: err=    4 err_i=308.25 y=  196 x=62.63\n",
      "Time 7.0384: err=   20 err_i=311.25 y=  180 x=67.783\n",
      "Time 7.1994: err= -2.2 err_i=310.92 y=202.2 x=60.894\n",
      "Time 7.3584: err=-12.2 err_i=309.09 y=212.2 x=58.435\n",
      "Time 7.5194: err= 13.8 err_i=311.16 y=186.2 x=66.549\n",
      "Time 7.6794: err= 13.6 err_i=313.2 y=186.4 x=66.033\n",
      "Time 7.8394: err=-10.8 err_i=311.58 y=210.8 x=58.803\n",
      "Time 7.9995: err= 10.8 err_i=313.2 y=189.2 x=66.06\n",
      "Time 8.1595: err=  5.4 err_i=314.01 y=194.6 x=63.972\n",
      "Time 8.3195: err=    6 err_i=314.91 y=  194 x=64.502\n",
      "Time 8.4795: err= -2.2 err_i=314.58 y=202.2 x=62.093\n",
      "Time 8.6395: err=    4 err_i=315.18 y=  196 x=64.243\n",
      "Time 8.7995: err=    6 err_i=316.08 y=  194 x=64.783\n",
      "Time 8.9605: err=  5.4 err_i=316.89 y=194.6 x=64.708\n",
      "Time 9.1205: err=-10.4 err_i=315.33 y=210.4 x=59.939\n",
      "Time 9.2805: err= -2.2 err_i=  315 y=202.2 x=62.723\n",
      "Time 9.4405: err=    6 err_i=315.9 y=  194 x=64.953\n",
      "Time 9.6005: err= 28.8 err_i=320.22 y=171.2 x=72.004\n",
      "Time 9.7606: err= 13.6 err_i=322.26 y=186.4 x=67.345\n",
      "Time 9.9206: err=   13 err_i=324.21 y=  187 x=68.072\n",
      "Time 10.081: err=    6 err_i=325.11 y=  194 x=66.289\n"
     ]
    },
    {
     "data": {
      "image/png": "[encoded data removed]",
      "text/plain": [
       "<Figure size 720x216 with 2 Axes>"
      ]
     },
     "metadata": {
      "needs_background": "light"
     },
     "output_type": "display_data"
    }
   ],
   "source": [
    "from time import sleep, time\n",
    "import matplotlib.pyplot as plt\n",
    "\n",
    "poe.set_valves('water', 'tflask')\n",
    "\n",
    "# PID attempt\n",
    "\n",
    "Kp = 0.25\n",
    "Ki = 0.2\n",
    "Kd = 0.005\n",
    "\n",
    "setpoint = 200.0 # uL/min\n",
    "\n",
    "timeout = 10.0 # sec\n",
    "start_time = time()\n",
    "cur_time = time()-start_time\n",
    "err_i = 0.0\n",
    "err_d = 0.0\n",
    "err_prev = 0.0\n",
    "dt = 0.15 # sec\n",
    "\n",
    "# traces\n",
    "t_arr = []\n",
    "x_arr = []\n",
    "y_arr = []\n",
    "while cur_time < timeout:\n",
    "    y,flag = poe.ob1.meas_flowrate()\n",
    "    if flag == 0:\n",
    "        err = setpoint - y\n",
    "\n",
    "        err_i = err_i + err*dt\n",
    "        err_d = (err - err_prev)/dt\n",
    "\n",
    "        x = Kp*err + Ki*err_i + Kd*err_d\n",
    "        \n",
    "        if x > 1000:\n",
    "            print('Pressure over range {}'.format(x))\n",
    "            x = 1000.0\n",
    "        elif x < -900:\n",
    "            print('Pressure under range {}'.format(x))\n",
    "            x = -900.0\n",
    "            \n",
    "        poe.ob1.set_pressure(x)\n",
    "        \n",
    "        x_arr.append(x)\n",
    "        y_arr.append(y)\n",
    "        t_arr.append(cur_time)\n",
    "        \n",
    "\n",
    "        err_prev = err\n",
    "        cur_time = time()-start_time\n",
    "        print('Time {:5.5g}: err={:5.5g} err_i={:5.5g} y={:5.5g} x={:5.5g}'.format(cur_time, err, err_i, y, x))\n",
    "    else:\n",
    "        print('Flow rate sensor error {}, value {}'.format(flag, y))\n",
    "        \n",
    "    sleep(dt)\n",
    "\n",
    "poe.set_valves('air', 'tflask')\n",
    "poe.ob1.set_pressure(200.0)\n",
    "sleep(5.0)\n",
    "poe.ob1.set_pressure(0.0)\n",
    "\n",
    "\n",
    "# plot results\n",
    "plt.figure(figsize=(10,3))\n",
    "plt.subplot(121)\n",
    "plt.title('Pressure [mbar]')\n",
    "plt.plot(t_arr, x_arr, label='x')\n",
    "plt.xlabel('Time [sec]')\n",
    "\n",
    "\n",
    "plt.subplot(122)\n",
    "plt.title('Y: flowrate [uL/min]')\n",
    "plt.plot(t_arr, y_arr, label='y')\n",
    "plt.plot([t_arr[0],t_arr[-1]], [setpoint, setpoint], label='setpoint')\n",
    "plt.xlabel('Time [sec]')\n",
    "plt.legend()\n",
    "plt.savefig('PID.png', dpi=200)\n",
    "plt.show()"
   ]
  },
  {
   "cell_type": "code",
   "execution_count": 115,
   "metadata": {},
   "outputs": [
    {
     "name": "stdout",
     "output_type": "stream",
     "text": [
      "1.11\n"
     ]
    }
   ],
   "source": [
    "print('{:4.3g}'.format(1.1122))"
   ]
  },
  {
   "cell_type": "code",
   "execution_count": 140,
   "metadata": {},
   "outputs": [
    {
     "name": "stdout",
     "output_type": "stream",
     "text": [
      "sampler.set_valves: Set air reservoir\n",
      "-4.344827586206897 uL/min, cumulative -0.00043448579722437367 uL at 0.006000041961669922 sec\n",
      "-4.344827586206897 uL/min, cumulative -0.03722280880500531 uL at 0.5140292644500732 sec\n",
      "-5.413793103448276 uL/min, cumulative -0.08306220564348944 uL at 1.0220582485198975 sec\n",
      "-5.413793103448276 uL/min, cumulative -0.12890162399445457 uL at 1.5300874710083008 sec\n",
      "-4.344827586206897 uL/min, cumulative -0.16568992973744184 uL at 2.038116455078125 sec\n",
      "-4.344827586206897 uL/min, cumulative -0.20247825274522277 uL at 2.5461456775665283 sec\n",
      "-4.344827586206897 uL/min, cumulative -0.23926655848821005 uL at 3.0541746616363525 sec\n",
      "-4.344827586206897 uL/min, cumulative -0.2760548642311973 uL at 3.5622036457061768 sec\n",
      "-4.344827586206897 uL/min, cumulative -0.31284318723897825 uL at 4.07023286819458 sec\n",
      "-4.344827586206897 uL/min, cumulative -0.3496314929819655 uL at 4.578261852264404 sec\n",
      "-4.344827586206897 uL/min, cumulative -0.38634737291555293 uL at 5.0852906703948975 sec\n",
      "-4.344827586206897 uL/min, cumulative -0.4231356959233339 uL at 5.593319892883301 sec\n",
      "-4.344827586206897 uL/min, cumulative -0.459851593121715 uL at 6.100348949432373 sec\n",
      "-3.2413793103448274 uL/min, cumulative -0.4873508690417498 uL at 6.609378099441528 sec\n",
      "-4.344827586206897 uL/min, cumulative -0.524139174784737 uL at 7.1174070835113525 sec\n",
      "-4.344827586206897 uL/min, cumulative -0.5609274805277243 uL at 7.625436067581177 sec\n",
      "-4.344827586206897 uL/min, cumulative -0.5977157862707116 uL at 8.133465051651001 sec\n",
      "-4.344827586206897 uL/min, cumulative -0.6345041092784925 uL at 8.641494274139404 sec\n",
      "-4.344827586206897 uL/min, cumulative -0.6712924150214798 uL at 9.149523258209229 sec\n",
      "-4.344827586206897 uL/min, cumulative -0.7080807380292607 uL at 9.657552480697632 sec\n",
      "-3.2413793103448274 uL/min, cumulative -0.7355259691161671 uL at 10.165581226348877 sec\n",
      "-4.310344827586207 uL/min, cumulative -0.7720223213064259 uL at 10.67361044883728 sec\n",
      "-4.344827586206897 uL/min, cumulative -0.808883052858813 uL at 11.182639598846436 sec\n",
      "-4.344827586206897 uL/min, cumulative -0.8456713586018003 uL at 11.69066858291626 sec\n",
      "-4.344827586206897 uL/min, cumulative -0.8824596816095812 uL at 12.198697805404663 sec\n",
      "-4.344827586206897 uL/min, cumulative -0.9192479873525685 uL at 12.706726789474487 sec\n",
      "-4.344827586206897 uL/min, cumulative -0.9560362930955558 uL at 13.214755773544312 sec\n",
      "-4.344827586206897 uL/min, cumulative -0.9928245988385431 uL at 13.722784757614136 sec\n",
      "-4.310344827586207 uL/min, cumulative -1.029320951028802 uL at 14.230813980102539 sec\n",
      "-4.344827586206897 uL/min, cumulative -1.0661092567717891 uL at 14.738842964172363 sec\n",
      "-4.344827586206897 uL/min, cumulative -1.1028975797795701 uL at 15.246872186660767 sec\n",
      "-4.344827586206897 uL/min, cumulative -1.1396858682577637 uL at 15.754900932312012 sec\n",
      "-4.344827586206897 uL/min, cumulative -1.1764741912655448 uL at 16.262930154800415 sec\n",
      "-5.413793103448276 uL/min, cumulative -1.2223135881040288 uL at 16.77095913887024 sec\n",
      "-4.344827586206897 uL/min, cumulative -1.2591019111118098 uL at 17.278988361358643 sec\n",
      "-4.344827586206897 uL/min, cumulative -1.295890216854797 uL at 17.787017345428467 sec\n",
      "-4.344827586206897 uL/min, cumulative -1.3326785225977842 uL at 18.29504632949829 sec\n",
      "-5.413793103448276 uL/min, cumulative -1.3785179194362682 uL at 18.803075313568115 sec\n",
      "-4.344827586206897 uL/min, cumulative -1.4153062424440492 uL at 19.31110453605652 sec\n",
      "-4.344827586206897 uL/min, cumulative -1.4520945481870364 uL at 19.819133520126343 sec\n",
      "-4.344827586206897 uL/min, cumulative -1.4889552797394234 uL at 20.328162670135498 sec\n",
      "-4.344827586206897 uL/min, cumulative -1.5257435854824106 uL at 20.836191654205322 sec\n",
      "-4.344827586206897 uL/min, cumulative -1.5625318912253978 uL at 21.344220638275146 sec\n",
      "-4.344827586206897 uL/min, cumulative -1.5993202142331788 uL at 21.85224986076355 sec\n",
      "-4.344827586206897 uL/min, cumulative -1.636108519976166 uL at 22.360278844833374 sec\n",
      "-4.344827586206897 uL/min, cumulative -1.672896842983947 uL at 22.868308067321777 sec\n",
      "-4.344827586206897 uL/min, cumulative -1.7096851314621406 uL at 23.376336812973022 sec\n",
      "-4.344827586206897 uL/min, cumulative -1.7464734544699216 uL at 23.884366035461426 sec\n",
      "-4.344827586206897 uL/min, cumulative -1.7832617602129088 uL at 24.39239501953125 sec\n",
      "-4.344827586206897 uL/min, cumulative -1.8200500832206898 uL at 24.900424242019653 sec\n",
      "-5.413793103448276 uL/min, cumulative -1.8657992567139108 uL at 25.407453298568726 sec\n",
      "-4.344827586206897 uL/min, cumulative -1.9026599710015042 uL at 25.9164822101593 sec\n",
      "-4.344827586206897 uL/min, cumulative -1.9394482767444914 uL at 26.424511194229126 sec\n",
      "-4.344827586206897 uL/min, cumulative -1.9763090082968784 uL at 26.93354034423828 sec\n",
      "-4.344827586206897 uL/min, cumulative -2.0131697398492654 uL at 27.442569494247437 sec\n",
      "-4.344827586206897 uL/min, cumulative -2.0500304714016524 uL at 27.951598644256592 sec\n",
      "-4.344827586206897 uL/min, cumulative -2.0868912029540394 uL at 28.460627794265747 sec\n",
      "-5.413793103448276 uL/min, cumulative -2.1328208446502677 uL at 28.969656944274902 sec\n",
      "-5.413793103448276 uL/min, cumulative -2.178750486346496 uL at 29.478686094284058 sec\n",
      "-5.413793103448276 uL/min, cumulative -2.2246801065302435 uL at 29.987715005874634 sec\n",
      "-4.344827586206897 uL/min, cumulative -2.2614684295380245 uL at 30.495744228363037 sec\n",
      "-5.413793103448276 uL/min, cumulative -2.307398071234253 uL at 31.004773378372192 sec\n",
      "-4.344827586206897 uL/min, cumulative -2.344403637140646 uL at 31.51580262184143 sec\n",
      "-5.413793103448276 uL/min, cumulative -2.390333278836874 uL at 32.024831771850586 sec\n",
      "-4.344827586206897 uL/min, cumulative -2.4269767502258555 uL at 32.53086066246033 sec\n",
      "-5.413793103448276 uL/min, cumulative -2.4728161470643397 uL at 33.03888964653015 sec\n",
      "-5.413793103448276 uL/min, cumulative -2.518655543902824 uL at 33.546918630599976 sec\n",
      "-1100.0 uL/min, cumulative -11.832524622856884 uL at 34.05494785308838 sec\n",
      "-1100.0 uL/min, cumulative -21.128057326256542 uL at 34.56197690963745 sec\n",
      "-1100.0 uL/min, cumulative -30.44192203420332 uL at 35.070005893707275 sec\n",
      "sampler.set_valves: Set air reservoir\n"
     ]
    },
    {
     "data": {
      "image/png": "[encoded data removed]",
      "text/plain": [
       "<Figure size 432x288 with 1 Axes>"
      ]
     },
     "metadata": {
      "needs_background": "light"
     },
     "output_type": "display_data"
    }
   ],
   "source": [
    "import matplotlib.pyplot as plt\n",
    "poe.set_valves('air', 'tflask')\n",
    "time,vol = poe.pushpull(mode=1, target=30, pressure=-20)\n",
    "poe.set_valves('air', 'waste')\n",
    "time_rel = [t-time[0] for t in time]\n",
    "plt.plot(time_rel, vol)\n",
    "plt.xlabel('Time [sec]')\n",
    "plt.ylabel('Volume [uL]')\n",
    "plt.show()"
   ]
  },
  {
   "cell_type": "code",
   "execution_count": 70,
   "metadata": {},
   "outputs": [],
   "source": [
    "del poe"
   ]
  },
  {
   "cell_type": "code",
   "execution_count": 4,
   "metadata": {},
   "outputs": [
    {
     "name": "stdout",
     "output_type": "stream",
     "text": [
      "b'Instrument name and regulator types hardcoded in the python script'\n",
      "C:\\Users\\Admin\\Documents\\GitHub\\fluid-auto-sampler\\control_scripts\\ob1_calibration.txt\n"
     ]
    }
   ],
   "source": [
    "# kenobi=ob1(calibrate=True)\n",
    "kenobi=ob1(calibrate=False)"
   ]
  },
  {
   "cell_type": "code",
   "execution_count": 54,
   "metadata": {},
   "outputs": [
    {
     "name": "stdout",
     "output_type": "stream",
     "text": [
      "99.91674880079995\n"
     ]
    }
   ],
   "source": [
    "p,e = kenobi.meas_pressure()\n",
    "\n",
    "print(p)"
   ]
  },
  {
   "cell_type": "code",
   "execution_count": 26,
   "metadata": {},
   "outputs": [
    {
     "ename": "NameError",
     "evalue": "name 'kenobi' is not defined",
     "output_type": "error",
     "traceback": [
      "\u001b[1;31m---------------------------------------------------------------------------\u001b[0m",
      "\u001b[1;31mNameError\u001b[0m                                 Traceback (most recent call last)",
      "\u001b[1;32m<ipython-input-26-a903819206d4>\u001b[0m in \u001b[0;36m<module>\u001b[1;34m\u001b[0m\n\u001b[1;32m----> 1\u001b[1;33m \u001b[0mkenobi\u001b[0m\u001b[1;33m.\u001b[0m\u001b[0mset_pressure\u001b[0m\u001b[1;33m(\u001b[0m\u001b[1;33m-\u001b[0m\u001b[1;36m50\u001b[0m\u001b[1;33m)\u001b[0m\u001b[1;33m\u001b[0m\u001b[1;33m\u001b[0m\u001b[0m\n\u001b[0m",
      "\u001b[1;31mNameError\u001b[0m: name 'kenobi' is not defined"
     ]
    }
   ],
   "source": [
    "kenobi.set_pressure(-50)"
   ]
  },
  {
   "cell_type": "code",
   "execution_count": 11,
   "metadata": {},
   "outputs": [
    {
     "data": {
      "text/plain": [
       "(-6.551724137931035, 0)"
      ]
     },
     "execution_count": 11,
     "metadata": {},
     "output_type": "execute_result"
    }
   ],
   "source": [
    "kenobi.meas_flowrate()"
   ]
  },
  {
   "cell_type": "code",
   "execution_count": 45,
   "metadata": {},
   "outputs": [
    {
     "name": "stdout",
     "output_type": "stream",
     "text": [
      "0\n"
     ]
    }
   ],
   "source": [
    "mux = mux_wire()"
   ]
  },
  {
   "cell_type": "code",
   "execution_count": 57,
   "metadata": {},
   "outputs": [
    {
     "data": {
      "text/plain": [
       "0"
      ]
     },
     "execution_count": 57,
     "metadata": {},
     "output_type": "execute_result"
    }
   ],
   "source": [
    "state = [1, 0, 0, 0, 0, 0, 0, 0]\n",
    "mux.set_all_valves(state)"
   ]
  },
  {
   "cell_type": "code",
   "execution_count": 38,
   "metadata": {},
   "outputs": [
    {
     "data": {
      "text/plain": [
       "True"
      ]
     },
     "execution_count": 38,
     "metadata": {},
     "output_type": "execute_result"
    }
   ],
   "source": [
    "isinstance(state, list)"
   ]
  },
  {
   "cell_type": "code",
   "execution_count": 7,
   "metadata": {},
   "outputs": [
    {
     "name": "stdout",
     "output_type": "stream",
     "text": [
      "./ob1_calibration.txt\n",
      "C:\\Users\\Admin\\Documents\\GitHub\\fluid-auto-sampler\\control_scripts\n",
      "ob1_calibration.txt\n",
      "C:\\Users\\Admin\\Documents\\GitHub\\fluid-auto-sampler\\control_scripts\\ob1_calibration.txt\n"
     ]
    }
   ],
   "source": [
    "print(os.path.expanduser(r'./ob1_calibration.txt'))\n",
    "print(os.getcwd())\n",
    "print(os.path.relpath('ob1_calibration.txt'))\n",
    "print(os.path.abspath('ob1_calibration.txt'))"
   ]
  },
  {
   "cell_type": "code",
   "execution_count": 12,
   "metadata": {},
   "outputs": [
    {
     "ename": "NameError",
     "evalue": "name 'mux' is not defined",
     "output_type": "error",
     "traceback": [
      "\u001b[1;31m---------------------------------------------------------------------------\u001b[0m",
      "\u001b[1;31mNameError\u001b[0m                                 Traceback (most recent call last)",
      "\u001b[1;32m<ipython-input-12-3e794ffe8be0>\u001b[0m in \u001b[0;36m<module>\u001b[1;34m\u001b[0m\n\u001b[0;32m      1\u001b[0m \u001b[1;32mdel\u001b[0m \u001b[0mkenobi\u001b[0m\u001b[1;33m\u001b[0m\u001b[1;33m\u001b[0m\u001b[0m\n\u001b[1;32m----> 2\u001b[1;33m \u001b[1;32mdel\u001b[0m \u001b[0mmux\u001b[0m\u001b[1;33m\u001b[0m\u001b[1;33m\u001b[0m\u001b[0m\n\u001b[0m",
      "\u001b[1;31mNameError\u001b[0m: name 'mux' is not defined"
     ]
    }
   ],
   "source": [
    "del kenobi\n",
    "del mux"
   ]
  },
  {
   "cell_type": "code",
   "execution_count": 13,
   "metadata": {},
   "outputs": [
    {
     "name": "stdout",
     "output_type": "stream",
     "text": [
      "[0, 0, 0, 0, 0, 0, 0, 0]\n"
     ]
    }
   ],
   "source": [
    "print([0]*8)"
   ]
  },
  {
   "cell_type": "code",
   "execution_count": null,
   "metadata": {},
   "outputs": [],
   "source": []
  }
 ],
 "metadata": {
  "kernelspec": {
   "display_name": "Python 3",
   "language": "python",
   "name": "python3"
  },
  "language_info": {
   "codemirror_mode": {
    "name": "ipython",
    "version": 3
   },
   "file_extension": ".py",
   "mimetype": "text/x-python",
   "name": "python",
   "nbconvert_exporter": "python",
   "pygments_lexer": "ipython3",
   "version": "3.8.3"
  }
 },
 "nbformat": 4,
 "nbformat_minor": 4
}
