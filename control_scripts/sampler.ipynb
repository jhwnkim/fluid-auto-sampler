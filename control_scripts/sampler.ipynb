{
 "cells": [
  {
   "cell_type": "markdown",
   "metadata": {},
   "source": [
    "# Auto Sampler script\n",
    "## Elveflow Instruments\n",
    "* OB1 pressure controller\n",
    "* MUX Wire\n",
    "* \n",
    "## troubleshooting\n",
    "* when ob1 set pressure is not working, try: \n",
    " * restarting kernel\n",
    " * turn off switches on ob1 and unplug replug usb"
   ]
  },
  {
   "cell_type": "code",
   "execution_count": null,
   "metadata": {},
   "outputs": [],
   "source": []
  },
  {
   "cell_type": "markdown",
   "metadata": {},
   "source": [
    "## Import Libraries"
   ]
  },
  {
   "cell_type": "code",
   "execution_count": null,
   "metadata": {},
   "outputs": [],
   "source": [
    "%reset -f\n",
    "\n",
    "# Import Elveflow library\n",
    "import sys\n",
    "import os\n",
    "from email.header import UTF8\n",
    "# SDK_HOME = 'C:/Users/Admin/ELVEFLOW/SDK_V3_04_04'\n",
    "SDK_HOME = 'C:/Users/Admin/ELVEFLOW/ESI_V3_04_01/SDK V3_04_01'\n",
    "sys.path.append(SDK_HOME+'/DLL64/DLL64')#add the path of the library here\n",
    "sys.path.append(SDK_HOME+'/Python_64')#add the path of the LoadElveflow.py\n",
    "\n",
    "from ctypes import *\n",
    "\n",
    "from array import array\n",
    "\n",
    "from Elveflow64 import *\n",
    "import serial\n",
    "\n",
    "from time import sleep, time\n",
    "import numpy as np\n",
    "import matplotlib.pyplot as plt"
   ]
  },
  {
   "cell_type": "markdown",
   "metadata": {},
   "source": [
    "## Instrument Class definitions"
   ]
  },
  {
   "cell_type": "code",
   "execution_count": null,
   "metadata": {},
   "outputs": [],
   "source": []
  },
  {
   "cell_type": "code",
   "execution_count": null,
   "metadata": {},
   "outputs": [],
   "source": [
    "from sampler import *\n",
    "\n",
    "poe = sampler(verbose=False)\n",
    "\n",
    "poe.set_valves('air', 'flow-cell')\n",
    "poe.ob1.set_pressure(0)\n"
   ]
  },
  {
   "cell_type": "code",
   "execution_count": null,
   "metadata": {},
   "outputs": [],
   "source": []
  },
  {
   "cell_type": "code",
   "execution_count": null,
   "metadata": {
    "scrolled": true
   },
   "outputs": [],
   "source": [
    "samples = ['tflask1', 'tflask3']\n",
    "# samples = ['tflask3']\n",
    "poe.take_measurement(samples=samples, N=10, Nclean=2)"
   ]
  },
  {
   "cell_type": "code",
   "execution_count": null,
   "metadata": {
    "scrolled": true
   },
   "outputs": [],
   "source": [
    "poe.clean_cell(cycles=1)"
   ]
  },
  {
   "cell_type": "code",
   "execution_count": null,
   "metadata": {
    "scrolled": true
   },
   "outputs": [],
   "source": [
    "poe.set_valves('water', 'flow-cell')\n",
    "poe.pushpull(pressure=-50, timeout=10)"
   ]
  },
  {
   "cell_type": "code",
   "execution_count": null,
   "metadata": {
    "scrolled": true
   },
   "outputs": [],
   "source": [
    "poe.clear(target='allflasks')"
   ]
  },
  {
   "cell_type": "code",
   "execution_count": null,
   "metadata": {
    "scrolled": true
   },
   "outputs": [],
   "source": [
    "poe.set_valves('air', 'flow-cell')\n",
    "poe.clear(target='flow-cell', timeout=10, pressure=70)"
   ]
  },
  {
   "cell_type": "code",
   "execution_count": null,
   "metadata": {
    "scrolled": true
   },
   "outputs": [],
   "source": [
    "poe.clear(target='tflask1', timeout=10)"
   ]
  },
  {
   "cell_type": "code",
   "execution_count": null,
   "metadata": {
    "scrolled": true
   },
   "outputs": [],
   "source": [
    "poe.to_flowcell(source='tflask3')"
   ]
  },
  {
   "cell_type": "code",
   "execution_count": null,
   "metadata": {
    "scrolled": true
   },
   "outputs": [],
   "source": [
    "poe.clean_cell(cycles=1)"
   ]
  },
  {
   "cell_type": "code",
   "execution_count": null,
   "metadata": {},
   "outputs": [],
   "source": [
    "poe.acton.send_trigger(N=5)"
   ]
  },
  {
   "cell_type": "code",
   "execution_count": null,
   "metadata": {
    "scrolled": true
   },
   "outputs": [],
   "source": [
    "poe.to_flowcell(source='water')"
   ]
  },
  {
   "cell_type": "code",
   "execution_count": null,
   "metadata": {
    "scrolled": true
   },
   "outputs": [],
   "source": [
    "poe.to_flowcell(source='tflask1')"
   ]
  },
  {
   "cell_type": "code",
   "execution_count": null,
   "metadata": {
    "scrolled": true
   },
   "outputs": [],
   "source": [
    "poe.to_flowcell(source='water')"
   ]
  },
  {
   "cell_type": "code",
   "execution_count": null,
   "metadata": {},
   "outputs": [],
   "source": [
    "poe.mix(source='tflask4', sink='tflask1', Nplugs=2)"
   ]
  },
  {
   "cell_type": "code",
   "execution_count": null,
   "metadata": {
    "scrolled": true
   },
   "outputs": [],
   "source": [
    "poe.clean(target='flow-cell')"
   ]
  },
  {
   "cell_type": "code",
   "execution_count": null,
   "metadata": {},
   "outputs": [],
   "source": [
    "poe.clear(target='tflask3', timeout=10)"
   ]
  },
  {
   "cell_type": "code",
   "execution_count": null,
   "metadata": {},
   "outputs": [],
   "source": [
    "poe.set_valves('air', 'flow-cell')"
   ]
  },
  {
   "cell_type": "code",
   "execution_count": null,
   "metadata": {},
   "outputs": [],
   "source": [
    "poe.set_valves('air', 'tflask2')"
   ]
  },
  {
   "cell_type": "code",
   "execution_count": null,
   "metadata": {},
   "outputs": [],
   "source": [
    "poe.ob1.set_pressure(250)"
   ]
  },
  {
   "cell_type": "code",
   "execution_count": null,
   "metadata": {},
   "outputs": [],
   "source": [
    "poe.ob1.set_pressure(0)"
   ]
  },
  {
   "cell_type": "code",
   "execution_count": null,
   "metadata": {},
   "outputs": [],
   "source": [
    "poe.ob1.meas_pressure()"
   ]
  },
  {
   "cell_type": "code",
   "execution_count": null,
   "metadata": {},
   "outputs": [],
   "source": [
    "# Clearing lines\n",
    "poe.set_valves('air', 'tflask1')\n",
    "poe.pushpull(pressure=500, timeout=10)\n",
    "poe.set_valves('air', 'tflask2')\n",
    "poe.pushpull(pressure=500, timeout=10)\n",
    "\n",
    "\n",
    "poe.set_valves('water', 'flow-cell')\n",
    "poe.pushpull(pressure=100, timeout=10, sensor=('msr', 2))\n",
    "\n",
    "poe.set_valves('air', 'flow-cell')\n",
    "poe.pushpull(pressure=200, timeout=20, sensor=('msr', 2))"
   ]
  },
  {
   "cell_type": "code",
   "execution_count": null,
   "metadata": {},
   "outputs": [],
   "source": [
    "poe.set_valves('water', 'tflask2')\n",
    "poe.sample(sensor=(\"msr\", 1), setpoint=-500, trigger=0.1, overtime=10.0, timeout=40)\n",
    "\n",
    "poe.set_valves('air', 'flow-cell')\n",
    "poe.sample(sensor=(\"msr\", 2), setpoint=50, press_range=(-70,100), trigger=0.0, overtime=0.0, timeout=50)\n",
    "# poe.pushpull(pressure=300, timeout=10)\n",
    "\n",
    "# Clean\n",
    "# poe.set_valves('water', 'tflask')\n",
    "# poe.pushpull(pressure=500, timeout=5)\n",
    "poe.set_valves('air', 'tflask2')\n",
    "poe.pushpull(pressure=250, timeout=10)\n",
    "\n",
    "# poe.set_valves('air', 'flow-cell')\n",
    "# poe.pushpull(pressure=100, timeout=10)"
   ]
  },
  {
   "cell_type": "code",
   "execution_count": null,
   "metadata": {},
   "outputs": [],
   "source": [
    "poe.set_valves('air', 'flow-cell')\n",
    "poe.pushpull(pressure=50, timeout=30)"
   ]
  },
  {
   "cell_type": "code",
   "execution_count": null,
   "metadata": {},
   "outputs": [],
   "source": [
    "sens = msr()"
   ]
  },
  {
   "cell_type": "code",
   "execution_count": null,
   "metadata": {},
   "outputs": [],
   "source": [
    "del sens"
   ]
  },
  {
   "cell_type": "code",
   "execution_count": null,
   "metadata": {},
   "outputs": [],
   "source": [
    "sens.meas_flowrate(channel=3)"
   ]
  },
  {
   "cell_type": "code",
   "execution_count": null,
   "metadata": {},
   "outputs": [],
   "source": [
    "del sens"
   ]
  },
  {
   "cell_type": "code",
   "execution_count": null,
   "metadata": {},
   "outputs": [],
   "source": [
    "poe.set_valves('air', 'flow-cell')"
   ]
  },
  {
   "cell_type": "code",
   "execution_count": null,
   "metadata": {},
   "outputs": [],
   "source": [
    "poe.set_valves('water', 'flow-cell')"
   ]
  },
  {
   "cell_type": "code",
   "execution_count": null,
   "metadata": {},
   "outputs": [],
   "source": [
    "poe.set_valves('air', 'tflask2')"
   ]
  },
  {
   "cell_type": "code",
   "execution_count": null,
   "metadata": {},
   "outputs": [],
   "source": [
    "poe.set_valves('water', 'tflask')"
   ]
  },
  {
   "cell_type": "code",
   "execution_count": null,
   "metadata": {},
   "outputs": [],
   "source": [
    "poe.set_valves('water', 'flow-cell')"
   ]
  },
  {
   "cell_type": "code",
   "execution_count": null,
   "metadata": {},
   "outputs": [],
   "source": [
    "poe.pushpull(pressure=900, timeout=10)"
   ]
  },
  {
   "cell_type": "code",
   "execution_count": null,
   "metadata": {},
   "outputs": [],
   "source": [
    "poe.ob1.set_pressure(-500)"
   ]
  },
  {
   "cell_type": "code",
   "execution_count": null,
   "metadata": {},
   "outputs": [],
   "source": [
    "poe.ob1.set_pressure(100)"
   ]
  },
  {
   "cell_type": "code",
   "execution_count": null,
   "metadata": {},
   "outputs": [],
   "source": [
    "poe.ob1.set_pressure(0)"
   ]
  },
  {
   "cell_type": "code",
   "execution_count": null,
   "metadata": {},
   "outputs": [],
   "source": [
    "poe.ob1.meas_flowrate()"
   ]
  },
  {
   "cell_type": "code",
   "execution_count": null,
   "metadata": {},
   "outputs": [],
   "source": [
    "poe.msr.meas_flowrate(channel=2)"
   ]
  },
  {
   "cell_type": "code",
   "execution_count": null,
   "metadata": {},
   "outputs": [],
   "source": [
    "poe.ob1.meas_pressure()"
   ]
  },
  {
   "cell_type": "code",
   "execution_count": null,
   "metadata": {},
   "outputs": [],
   "source": [
    "import numpy as np\n",
    "import matplotlib.pyplot as plt\n",
    "\n",
    "vol = np.array([0.2758,\n",
    "        0.2753,\n",
    "        0.2761,\n",
    "        0.2739,\n",
    "        0.2761,\n",
    "        0.2748,\n",
    "        0.2777,\n",
    "        0.2782,\n",
    "        0.2771,\n",
    "        0.2791])*1e3\n",
    "\n",
    "print('{} Samples: avg={:6.5g} uL, stdev={:6.5g} uL'.format(vol.shape[0], np.mean(vol), np.std(vol)))\n",
    "\n",
    "plt.figure()\n",
    "plt.plot(range(1,11), vol, 'o', label='Data')\n",
    "plt.plot([1,10], [np.mean(vol)]*2, '-', label='Mean={:.3g} $\\pm$ {:.3g} $\\mu L$'.format(np.mean(vol), np.std(vol)))\n",
    "plt.legend()\n",
    "plt.xlabel('Sample #')\n",
    "plt.ylabel('$\\mu L$')\n",
    "plt.savefig('')\n",
    "plt.show()"
   ]
  },
  {
   "cell_type": "code",
   "execution_count": null,
   "metadata": {},
   "outputs": [],
   "source": [
    "from time import sleep, time\n",
    "import matplotlib.pyplot as plt\n",
    "\n",
    "poe.set_valves('air', 'tflask')\n",
    "\n",
    "# PID attempt\n",
    "\n",
    "Kp = 0.5\n",
    "Ki = 0.2\n",
    "Kd = 0.005\n",
    "\n",
    "setpoint = -200.0 # uL/min\n",
    "\n",
    "timeout = 10.0 # sec\n",
    "start_time = time()\n",
    "cur_time = time()-start_time\n",
    "err_i = 0.0\n",
    "err_d = 0.0\n",
    "err_prev = 0.0\n",
    "dt = 0.15 # sec\n",
    "\n",
    "# traces\n",
    "t_arr = []\n",
    "x_arr = []\n",
    "y_arr = []\n",
    "while cur_time < timeout:\n",
    "    y,flag = poe.ob1.meas_flowrate()\n",
    "    if flag == 0:\n",
    "        err = setpoint - y\n",
    "\n",
    "        err_i = err_i + err*dt\n",
    "        err_d = (err - err_prev)/dt\n",
    "\n",
    "        x = Kp*err + Ki*err_i + Kd*err_d\n",
    "        \n",
    "        if x > 1000:\n",
    "            print('Pressure over range {}'.format(x))\n",
    "            x = 1000.0\n",
    "        elif x < -900:\n",
    "            print('Pressure under range {}'.format(x))\n",
    "            x = -900.0\n",
    "            \n",
    "        poe.ob1.set_pressure(x)\n",
    "        \n",
    "        x_arr.append(x)\n",
    "        y_arr.append(y)\n",
    "        t_arr.append(cur_time)\n",
    "        \n",
    "\n",
    "        err_prev = err\n",
    "        cur_time = time()-start_time\n",
    "        print('Time {:5.5g}: err={:5.5g} err_i={:5.5g} y={:5.5g} x={:5.5g}'.format(cur_time, err, err_i, y, x))\n",
    "    else:\n",
    "        print('Flow rate sensor error {}, value {}'.format(flag, y))\n",
    "        \n",
    "    sleep(dt)\n",
    "\n",
    "poe.set_valves('air', 'tflask')\n",
    "poe.ob1.set_pressure(200.0)\n",
    "sleep(5.0)\n",
    "poe.ob1.set_pressure(0.0)\n",
    "\n",
    "\n",
    "# plot results\n",
    "plt.figure(figsize=(10,3))\n",
    "plt.subplot(121)\n",
    "plt.title('Pressure [mbar]')\n",
    "plt.plot(t_arr, x_arr, label='x')\n",
    "plt.xlabel('Time [sec]')\n",
    "\n",
    "\n",
    "plt.subplot(122)\n",
    "plt.title('Y: flowrate [uL/min]')\n",
    "plt.plot(t_arr, y_arr, label='y')\n",
    "plt.plot([t_arr[0],t_arr[-1]], [setpoint, setpoint], label='setpoint')\n",
    "plt.xlabel('Time [sec]')\n",
    "plt.legend()\n",
    "plt.savefig('PID.png', dpi=200)\n",
    "plt.show()"
   ]
  },
  {
   "cell_type": "code",
   "execution_count": null,
   "metadata": {},
   "outputs": [],
   "source": [
    "print('{:4.3g}'.format(1.1122))"
   ]
  },
  {
   "cell_type": "code",
   "execution_count": null,
   "metadata": {},
   "outputs": [],
   "source": [
    "import matplotlib.pyplot as plt\n",
    "poe.set_valves('air', 'tflask')\n",
    "time,vol = poe.pushpull(mode=1, target=30, pressure=-20)\n",
    "poe.set_valves('air', 'flow-cell')\n",
    "time_rel = [t-time[0] for t in time]\n",
    "plt.plot(time_rel, vol)\n",
    "plt.xlabel('Time [sec]')\n",
    "plt.ylabel('Volume [uL]')\n",
    "plt.show()"
   ]
  },
  {
   "cell_type": "code",
   "execution_count": null,
   "metadata": {},
   "outputs": [],
   "source": [
    "del poe"
   ]
  },
  {
   "cell_type": "code",
   "execution_count": null,
   "metadata": {},
   "outputs": [],
   "source": [
    "# kenobi=ob1(calibrate=True)\n",
    "kenobi=ob1(calibrate=False)"
   ]
  },
  {
   "cell_type": "code",
   "execution_count": null,
   "metadata": {},
   "outputs": [],
   "source": [
    "p,e = kenobi.meas_pressure()\n",
    "\n",
    "print(p)"
   ]
  },
  {
   "cell_type": "code",
   "execution_count": null,
   "metadata": {},
   "outputs": [],
   "source": [
    "kenobi.set_pressure(-50)"
   ]
  },
  {
   "cell_type": "code",
   "execution_count": null,
   "metadata": {},
   "outputs": [],
   "source": [
    "kenobi.meas_flowrate()"
   ]
  },
  {
   "cell_type": "code",
   "execution_count": null,
   "metadata": {},
   "outputs": [],
   "source": [
    "mux = mux_wire()"
   ]
  },
  {
   "cell_type": "code",
   "execution_count": null,
   "metadata": {},
   "outputs": [],
   "source": [
    "state = [1, 0, 0, 0, 0, 0, 0, 0]\n",
    "mux.set_all_valves(state)"
   ]
  },
  {
   "cell_type": "code",
   "execution_count": null,
   "metadata": {},
   "outputs": [],
   "source": [
    "isinstance(state, list)"
   ]
  },
  {
   "cell_type": "code",
   "execution_count": null,
   "metadata": {},
   "outputs": [],
   "source": [
    "print(os.path.expanduser(r'./ob1_calibration.txt'))\n",
    "print(os.getcwd())\n",
    "print(os.path.relpath('ob1_calibration.txt'))\n",
    "print(os.path.abspath('ob1_calibration.txt'))"
   ]
  },
  {
   "cell_type": "code",
   "execution_count": null,
   "metadata": {},
   "outputs": [],
   "source": [
    "del kenobi\n",
    "del mux"
   ]
  },
  {
   "cell_type": "code",
   "execution_count": null,
   "metadata": {},
   "outputs": [],
   "source": [
    "print([0]*8)"
   ]
  },
  {
   "cell_type": "code",
   "execution_count": null,
   "metadata": {},
   "outputs": [],
   "source": []
  }
 ],
 "metadata": {
  "kernelspec": {
   "display_name": "Python 3",
   "language": "python",
   "name": "python3"
  },
  "language_info": {
   "codemirror_mode": {
    "name": "ipython",
    "version": 3
   },
   "file_extension": ".py",
   "mimetype": "text/x-python",
   "name": "python",
   "nbconvert_exporter": "python",
   "pygments_lexer": "ipython3",
   "version": "3.8.5"
  }
 },
 "nbformat": 4,
 "nbformat_minor": 4
}
