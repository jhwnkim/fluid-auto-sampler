{
 "cells": [
  {
   "cell_type": "markdown",
   "metadata": {},
   "source": [
    "# Auto Sampler script\n",
    "## Elveflow Instruments\n",
    "* OB1 pressure controller\n",
    "* MUX Wire\n",
    "* "
   ]
  },
  {
   "cell_type": "code",
   "execution_count": null,
   "metadata": {},
   "outputs": [],
   "source": [
    "# Import Elveflow library\n",
    "import sys\n",
    "from email.header import UTF8\n",
    "SDK_HOME = 'C:/Users/T5810/Downloads/ESI_V3_04_01/SDK'\n",
    "sys.path.append(SDK_HOME+'/DLL64/DLL64')#add the path of the library here\n",
    "sys.path.append(SDK_HOME+'/Python_64')#add the path of the LoadElveflow.py\n",
    "\n",
    "from ctypes import *\n",
    "\n",
    "from array import array\n",
    "\n",
    "from Elveflow64 import *"
   ]
  },
  {
   "cell_type": "code",
   "execution_count": null,
   "metadata": {},
   "outputs": [],
   "source": [
    "# Initialize instruments\n",
    "\n",
    "# OB1 and flow sensor initialization\n",
    "Instr_ID=c_int32()\n",
    "print(\"Instrument name and regulator types are hardcoded in the Python script\")\n",
    "#see User Guide to determine regulator types and NIMAX to determine the instrument name \n",
    "error=OB1_Initialization('01C9D9C3'.encode('ascii'),1,2,4,3,byref(Instr_ID)) \n",
    "#all functions will return error codes to help you to debug your code, for further information refer to User Guide\n",
    "print('error:%d' % error)\n",
    "print(\"OB1 ID: %d\" % Instr_ID.value)\n",
    "\n",
    "#add one digital flow sensor with water calibration (OB1 MK3+ only), all information to declare sensors are described in the User Guide\n",
    "error=OB1_Add_Sens(Instr_ID, 1, 1, 1, 0, 7, 0)\n",
    "#(CustomSens_Voltage_5_to_25 only works with CustomSensors and OB1 from 2020 and after)\n",
    "print('error add digit flow sensor:%d' % error)\n",
    "\n",
    "\n",
    "#\n",
    "#Set the calibration type\n",
    "#\n",
    "\n",
    "Calib=(c_double*1000)()#always define array this way, calibration should have 1000 elements\n",
    "repeat=True\n",
    "while repeat==True:\n",
    "    answer=input('select calibration type (default, load, new ) : ')\n",
    "    #answer='default'#test purpose only\n",
    "    Calib_path='C:\\\\Users\\\\Public\\\\Desktop\\\\Calibration\\\\Calib.txt'\n",
    "    if answer=='default':\n",
    "        error=Elveflow_Calibration_Default (byref(Calib),1000)\n",
    "        #for i in range (0,1000):\n",
    "            #print('[',i,']: ',Calib[i])\n",
    "        repeat=False\n",
    "    if answer=='load':\n",
    "        error=Elveflow_Calibration_Load (Calib_path.encode('ascii'), byref(Calib), 1000)\n",
    "        #for i in range (0,1000):\n",
    "            #print('[',i,']: ',Calib[i])\n",
    "        repeat=False\n",
    "        \n",
    "    if answer=='new':\n",
    "        OB1_Calib (Instr_ID.value, Calib, 1000)\n",
    "        #for i in range (0,1000):\n",
    "            #print('[',i,']: ',Calib[i])\n",
    "        error=Elveflow_Calibration_Save(Calib_path.encode('ascii'), byref(Calib), 1000)\n",
    "        print ('calib saved in %s' % Calib_path.encode('ascii'))\n",
    "        repeat=False"
   ]
  },
  {
   "cell_type": "code",
   "execution_count": null,
   "metadata": {},
   "outputs": [],
   "source": []
  }
 ],
 "metadata": {
  "kernelspec": {
   "display_name": "Python 3",
   "language": "python",
   "name": "python3"
  },
  "language_info": {
   "codemirror_mode": {
    "name": "ipython",
    "version": 3
   },
   "file_extension": ".py",
   "mimetype": "text/x-python",
   "name": "python",
   "nbconvert_exporter": "python",
   "pygments_lexer": "ipython3",
   "version": "3.8.5"
  }
 },
 "nbformat": 4,
 "nbformat_minor": 4
}
