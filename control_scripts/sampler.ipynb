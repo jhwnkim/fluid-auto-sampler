{
 "cells": [
  {
   "cell_type": "markdown",
   "metadata": {},
   "source": [
    "# Auto Sampler script\n",
    "## Elveflow Instruments\n",
    "* OB1 pressure controller\n",
    "* MUX Wire\n",
    "* "
   ]
  },
  {
   "cell_type": "code",
   "execution_count": null,
   "metadata": {},
   "outputs": [],
   "source": []
  },
  {
   "cell_type": "markdown",
   "metadata": {},
   "source": [
    "## Import Libraries"
   ]
  },
  {
   "cell_type": "code",
   "execution_count": 1,
   "metadata": {},
   "outputs": [],
   "source": [
    "%reset -f\n",
    "\n",
    "# Import Elveflow library\n",
    "import sys\n",
    "import os\n",
    "from email.header import UTF8\n",
    "# SDK_HOME = 'C:/Users/Admin/ELVEFLOW/SDK_V3_04_04'\n",
    "SDK_HOME = 'C:/Users/Admin/ELVEFLOW/ESI_V3_04_01/SDK V3_04_01'\n",
    "sys.path.append(SDK_HOME+'/DLL64/DLL64')#add the path of the library here\n",
    "sys.path.append(SDK_HOME+'/Python_64')#add the path of the LoadElveflow.py\n",
    "\n",
    "from ctypes import *\n",
    "\n",
    "from array import array\n",
    "\n",
    "from Elveflow64 import *\n",
    "\n",
    "from time import sleep, time\n",
    "import numpy as np\n",
    "import matplotlib.pyplot as plt"
   ]
  },
  {
   "cell_type": "markdown",
   "metadata": {},
   "source": [
    "## Instrument Class definitions"
   ]
  },
  {
   "cell_type": "code",
   "execution_count": 21,
   "metadata": {},
   "outputs": [],
   "source": [
    "Z_regulator_type = {\n",
    "    'none': 0,\n",
    "    '0_200_mbar': 1,\n",
    "    '0_2000_mbar': 2,    \n",
    "    '0_8000_mbar': 3,\n",
    "    'm1000_1000_mbar': 4,\n",
    "    'm1000_6000_mbar': 5\n",
    "}\n",
    "Z_sensor_type = {\n",
    "    'none': 0,\n",
    "    'Flow_1_5_uL_min': 1,\n",
    "    'Flow_7_uL_min': 2,\n",
    "    'Flow_50_uL_min': 3,\n",
    "    'Flow_80_uL_min': 4,\n",
    "    'Flow_1000_uL_min': 5,\n",
    "    'Flow_5000_uL_min': 6,\n",
    "    'Press_340_mbar': 7,\n",
    "    'Press_1_bar': 8,\n",
    "    'Press_2_bar': 9,\n",
    "    'Press_7_bar': 10,\n",
    "    'Press_16_bar': 11,\n",
    "    'Level': 12\n",
    "}\n",
    "\n",
    "def _check_error(task, error):\n",
    "    err_dict = {\n",
    "        -8000: 'No Digital Sensor found',\n",
    "        -8001: 'No pressure sensor compatible with OB1 MK3',\n",
    "        -8002: 'No Digital pressure sensor compatible with OB1 MK3+',\n",
    "        -8003: 'No Digital Flow sensor compatible with OB1 MK3',\n",
    "        -8004: 'No IPA config for this sensor',\n",
    "        -8005: 'Sensor not compatible with AF1',\n",
    "        -8006: 'No Instrument with selected ID'\n",
    "    }\n",
    "    if error != 0:\n",
    "        if error in err_dict:\n",
    "            raise RuntimeError('{} failed with error code {}\\n{}'.format(task, error, err_dict[error]))\n",
    "        else:\n",
    "            raise RuntimeError('{} failed with error code {}\\n{}'.format(task, error, 'Unknown error, see http://www.ni.com/pdf/manuals/321551a.pdf'))\n",
    "            \n",
    "class ob1():\n",
    "    def __init__(self, address='01EF64C3', calibrate=False):\n",
    "        self.Instr_ID = c_int32()\n",
    "        print('Instrument name and regulator types hardcoded in the python script'.encode('utf-8'))\n",
    "        # see User guide to determine regulator type NI MAX to determine the instrument name\n",
    "        # channel 1: -1000~1000 mBar, channel 2: none, channel 3: none, channel 4:none\n",
    "        error = OB1_Initialization(address.encode('ascii'), \n",
    "                                   Z_regulator_type['m1000_1000_mbar'], \n",
    "                                   Z_regulator_type['none'], \n",
    "                                   Z_regulator_type['none'], \n",
    "                                   Z_regulator_type['none'], \n",
    "                                   byref(self.Instr_ID))\n",
    "        # all functions will return error code to help you to debug your code, for further information see user guide\n",
    "        _check_error('OB1 Initialization', error)\n",
    "\n",
    "        # add one digital flow sensor to OB1 channel 1, 1mL/min, digital, water calibration, 16bit resolution, \n",
    "#         error=OB1_Add_Sens(self.Instr_ID, 1, Z_sensor_type['Flow_1000_uL_min'], 1, 0, 7, 0)\n",
    "        # add one digital flow sensor to OB1 channel 1, 5mL/min, digital, water calibration, 9bit resolution, \n",
    "        error=OB1_Add_Sens(self.Instr_ID, 1, Z_sensor_type['Flow_5000_uL_min'], 1, 0, 7, 0)\n",
    "        _check_error('Adding digital flow sensor', error)\n",
    "\n",
    "        self.calib_path = os.path.abspath('ob1_calibration.txt')\n",
    "        print(self.calib_path)\n",
    "        self.Calib = (c_double * 1000)()\n",
    "        if calibrate:\n",
    "            print ('Starting calibration')\n",
    "            OB1_Calib(self.Instr_ID.value, self.Calib, 1000)\n",
    "            error = Elveflow_Calibration_Save(self.calib_path.encode('ascii'), byref(self.Calib), 1000)\n",
    "            print ('Calibration finished')\n",
    "            print ('Calibration saved in file %s' % self.calib_path.encode('ascii'))\n",
    "        else:\n",
    "            if not os.path.isfile(self.calib_path):\n",
    "                raise IOError('Calibration file \"{}\" does not exist'.format(self.calib_path))               \n",
    "            error = Elveflow_Calibration_Load(self.calib_path.encode('ascii'), byref(self.Calib), 1000)\n",
    "            _check_error('Loading calibration file', error)            \n",
    "            \n",
    "        self.set_pressure(0)\n",
    "\n",
    "    def meas_flowrate(self, channel=1):\n",
    "        \"\"\"\n",
    "        Measures the instantaneous flow rate, on designated port.\n",
    "        Parameters:\n",
    "            channel: ob1 channel to set (1-4), defaults to 1\n",
    "        return: (flowrate, error code)\n",
    "            flowrate in uL/min\n",
    "            0 : successful\n",
    "            -1 : parameter error\n",
    "            otherwise: NI error\n",
    "        \"\"\"\n",
    "        if channel <1 or channel > 4:\n",
    "            print('ob1.meas_flowrate: channel must be within 1~4')\n",
    "            return -1\n",
    "        \n",
    "        set_channel = c_int32(channel)  # convert to c_int32\n",
    "        get_flowrate = c_double(0.0)\n",
    "        error = OB1_Get_Sens_Data(self.Instr_ID.value, set_channel, Acquire_Data1True0False=0, Sens_Data=byref(get_flowrate))  # Acquire_data =1 -> Read all the analog value\n",
    "#         print('Press or Flow ch', set_channel.value,': ',get_flowrate.value)\n",
    "#         _check_error('Getting data from flow sensor', error)\n",
    "        \n",
    "        return get_flowrate.value, error\n",
    "\n",
    "    def set_pressure(self, pressure, channel=1):\n",
    "        \"\"\"\n",
    "        Sets the pressure, on designated port.\n",
    "        Parameters:\n",
    "            pressure: target pressure in mBar (-1000 to 8000)\n",
    "            channel: ob1 channel to set (1-4), defaults to 1\n",
    "        return: error code\n",
    "            0 : successful\n",
    "            -1 : parameter error\n",
    "            otherwise: NI error\n",
    "        \"\"\"      \n",
    "        \n",
    "        # check parameters\n",
    "        if pressure >8000.0 or pressure < -1000.0:\n",
    "            print('ob1.set_pressure: Error pressure must be within -1000~8000')\n",
    "            return -1\n",
    "        if channel <1 or channel > 4:\n",
    "            print('set_pressure: channel must be within 1~4')\n",
    "            return -1\n",
    "        \n",
    "        set_channel=c_int32(channel)#convert to c_int32        \n",
    "        set_pressure=c_double(pressure) #convert to c_double        \n",
    "        error=OB1_Set_Press(self.Instr_ID.value, set_channel, set_pressure, byref(self.Calib),1000) \n",
    "        _check_error('Setting pressure', error)\n",
    "        \n",
    "        return error\n",
    "    \n",
    "    def meas_pressure(self, channel=1):\n",
    "        \"\"\"\n",
    "        Measures the instantaneous pressure, on designated channel.\n",
    "        Parameters:\n",
    "            channel: ob1 channel to set (1-4), defaults to 1\n",
    "        return: (pressure, error code)\n",
    "            flowrate in mBar\n",
    "            0 : successful\n",
    "            -1 : parameter error\n",
    "            otherwise: NI error\n",
    "        \"\"\"\n",
    "        if channel <1 or channel > 4:\n",
    "            print('ob1.meas_pressure: channel must be within 1~4')\n",
    "            return -1\n",
    "        \n",
    "        set_channel = c_int32(channel)  # convert to c_int32\n",
    "        get_pressure = c_double(0.0)\n",
    "        error = OB1_Get_Press(self.Instr_ID.value, set_channel, Acquire_Data1True0False=0, Calib_array_in=self.Calib, Pressure=byref(get_pressure), Calib_Array_len=1000)  # Acquire_data =1 -> Read all the analog value\n",
    "        print('Press ch 1: ',get_pressure.value)\n",
    "#         _check_error('Getting pressure from OB1', error)\n",
    "        \n",
    "        return get_pressure.value, error\n",
    "    \n",
    "    def __del__(self):\n",
    "        self.set_pressure(0)\n",
    "        error=OB1_Destructor(self.Instr_ID.value)\n",
    "        \n",
    "class mux_wire():\n",
    "    def __init__(self, address='Dev2'):\n",
    "        self.Instr_ID = c_int32()\n",
    "        # see User guide to determine regulator type NI MAX to determine the instrument name\n",
    "        error = MUX_Initialization(address.encode('ascii'), byref(self.Instr_ID))\n",
    "        # all functions will return error code to help you to debug your code, for further information see user guide\n",
    "        _check_error('MUX Initialization', error)\n",
    "        print(error)\n",
    "        \n",
    "        self.state = [0]*8\n",
    "        \n",
    "    def set_all_valves(self, state):\n",
    "        \"\"\"\n",
    "        Sets state of all valves\n",
    "        Parameters:\n",
    "            state: 8 integer (0: close, 1: open)\n",
    "        return: error code\n",
    "            0 : successful\n",
    "            -1 : parameter error\n",
    "            otherwise: NI error\n",
    "        \"\"\"\n",
    "        if not (isinstance(state, list) and len(state) == 8):\n",
    "            print('Error mux_wire.set_all_valves: state has to be a list of 8 integers')\n",
    "            return -1\n",
    "        \n",
    "        self.state = state\n",
    "        valve_state=(c_int32*16)(0)\n",
    "        for i in range(8):\n",
    "            valve_state[i]=c_int32(state[i]) \n",
    "            \n",
    "        error=MUX_Wire_Set_all_valves(self.Instr_ID.value, valve_state, 16)\n",
    "        \n",
    "        return error     \n",
    "    \n",
    "    def set_valve(self, channel, state):\n",
    "        \"\"\"\n",
    "        Sets state of a certain valve\n",
    "        Parameters:\n",
    "            channel: integer (1-8)\n",
    "            state: integer (0: close to N.O., 1: open to N.C.)\n",
    "        return: error code\n",
    "            0 : successful\n",
    "            -1 : parameter error\n",
    "            otherwise: NI error\n",
    "        \"\"\"\n",
    "        if not isinstance(state, int):\n",
    "            print('Error mux_wire.set_valve: state has to be an integer')\n",
    "            return -1\n",
    "        if not (isinstance(channel, int) and channel>0 and channel<9) :\n",
    "            print('Error mux_wire.set_valve: channel has to be integer (1-8)')\n",
    "            return -1\n",
    "                \n",
    "        self.state[channel-1] = state\n",
    "        valve_state=(c_int32*16)(0)\n",
    "        for i in range(8):\n",
    "            valve_state[i]=c_int32(self.state[i]) \n",
    "            \n",
    "        error=MUX_Wire_Set_all_valves(self.Instr_ID.value, valve_state, 16)\n",
    "        \n",
    "    def get_state(self):\n",
    "        \"\"\"\n",
    "        Returns state of current valves: list of 8 integers\n",
    "        \"\"\"\n",
    "        return self.state\n",
    "            \n",
    "    def __del__(self):\n",
    "        error=MUX_Destructor(self.Instr_ID.value)\n",
    "        \n",
    "class msr():\n",
    "    def __init__(self, address='01EE3A2D'):\n",
    "        self.Instr_ID = c_int32()\n",
    "        # see User guide to determine regulator type NI MAX to determine theerror=M_S_R_D_Initialization('01DAA568'.encode('ascii'),5,0,0,0,0,0,byref(Instr_ID)) \n",
    "        \n",
    "        error = M_S_R_D_Initialization(address.encode('ascii'),\n",
    "                                       Sens_Ch_1=Z_sensor_type['Flow_5000_uL_min'],\n",
    "                                       Sens_Ch_2=Z_sensor_type['none'],\n",
    "                                       Sens_Ch_3=Z_sensor_type['Flow_1000_uL_min'],\n",
    "                                       Sens_Ch_4=Z_sensor_type['none'],\n",
    "                                       CustomSens_Voltage_Ch12=5,  # 5-25V unused for digital sensors\n",
    "                                       CustomSens_Voltage_Ch34=5,  # 5-25V unused for digital sensors\n",
    "                                       MSRD_ID_out=byref(self.Instr_ID))\n",
    "        # all functions will return error code to help you to debug your code, for further information see user guide\n",
    "        _check_error('MSR Initialization', error)\n",
    "        print(error)\n",
    "        \n",
    "        # Add sensors\n",
    "        #   on channel 1\n",
    "        error =  M_S_R_D_Add_Sens(self.Instr_ID.value, \n",
    "                                  Channel_1_to_4         = c_int32(1),\n",
    "                                  SensorType             = Z_sensor_type['Flow_5000_uL_min'],\n",
    "                                  DigitalAnalog          = c_uint16(1), # Digital\n",
    "                                  FSens_Digit_Calib      = c_uint16(0), # water calibration\n",
    "                                  FSens_Digit_Resolution = c_uint16(0)) # 9 bit\n",
    "        if error != 0:\n",
    "            print('error add digital flow sensor on channel 1:%d' % error)\n",
    "        \n",
    "        #   on channel 3\n",
    "        error =  M_S_R_D_Add_Sens(self.Instr_ID.value, \n",
    "                                  Channel_1_to_4         = c_int32(3),\n",
    "                                  SensorType             = Z_sensor_type['Flow_1000_uL_min'],\n",
    "                                  DigitalAnalog          = c_uint16(1), # Digital\n",
    "                                  FSens_Digit_Calib      = c_uint16(0), # water calibration\n",
    "                                  FSens_Digit_Resolution = c_uint16(0)) # 9 bit\n",
    "        if error != 0:\n",
    "            print('error add digital flow sensor on channel 3:%d' % error)\n",
    "        \n",
    "        \n",
    "    def meas_flowrate(self, channel=1):\n",
    "        \"\"\"\n",
    "        Measures the instantaneous flow rate, on designated port.\n",
    "        Parameters:\n",
    "            channel: MSR channel to set (1-4), defaults to 1\n",
    "        return: (flowrate, error code)\n",
    "            flowrate in uL/min\n",
    "            0 : successful\n",
    "            -1 : parameter error\n",
    "            otherwise: NI error\n",
    "        \"\"\"\n",
    "        if channel <1 or channel > 4:\n",
    "            print('msr.meas_flowrate: channel must be within 1~4')\n",
    "            return -1\n",
    "        \n",
    "        set_channel = c_int32(channel)  # convert to c_int32\n",
    "        get_flowrate = c_double(0.0)\n",
    "        error = M_S_R_D_Get_Sens_Data(Channel_1_to_4=set_channel,\n",
    "                                      M_S_R_D_ID=self.Instr_ID.value, \n",
    "                                      Sens_Data=byref(get_flowrate))\n",
    "        \n",
    "        return get_flowrate.value, error\n",
    "    \n",
    "    def __del__(self):\n",
    "        error=M_S_R_D_Destructor(self.Instr_ID.value)\n",
    "        \n",
    "class sampler():\n",
    "    def __init__(self):\n",
    "        \"\"\"\n",
    "        Initialization\n",
    "        \"\"\"\n",
    "        self.ob1 = ob1(calibrate=False)\n",
    "        self.msr = msr()\n",
    "        self.mux_wire = mux_wire()\n",
    "        \n",
    "    def set_valves(self, reservoir, target):\n",
    "        \"\"\"\n",
    "        Sets valve configuration of sampling system\n",
    "        \"\"\"\n",
    "        state = self.mux_wire.get_state()\n",
    "        if reservoir=='air':\n",
    "#             print('sampler.set_valves: Set air reservoir')\n",
    "            state[1] = 0\n",
    "        elif reservoir == 'water':\n",
    "            state[1] = 1\n",
    "            \n",
    "        if target=='waste':\n",
    "            state[0] = 0\n",
    "        elif target == 'tflask':\n",
    "            state[0] = 1\n",
    "            \n",
    "        error = self.mux_wire.set_all_valves(state)\n",
    "        \n",
    "        return error\n",
    "    \n",
    "    def sample(self, sensor=('msr', 1), setpoint=-100, trigger=0.1, timeout=10):\n",
    "        \"\"\"\n",
    "        Samples fluid plug using OB1 and given flow sensor until flowrate error hits trigger threshold.\n",
    "        This assumes we are fixing volume with tubing between valves, and there is air in sensor before sample plug.    \n",
    "        Parameters:\n",
    "            sensor: tuple (string \"msr\" or \"ob1\", integer of channel)\n",
    "            setpoint: float (target flow rate in uL/min)\n",
    "            trigger: float (error threshold to stop sampling relative to flowrate)\n",
    "            timeout: float (timeout in seconds)\n",
    "        return: timestamp\n",
    "        \"\"\"        \n",
    "        Kp = 0.25\n",
    "        Ki = 0.2\n",
    "        Kd = 0.005\n",
    "\n",
    "        start_time = time()\n",
    "        cur_time = time()-start_time\n",
    "        err_i = 0.0\n",
    "        err_d = 0.0\n",
    "        err_prev = 0.0\n",
    "        dt = 0.15 # sec\n",
    "\n",
    "        # traces\n",
    "        t_arr = []\n",
    "        x_arr = []\n",
    "        y_arr = []\n",
    "        \n",
    "        # setup sensor\n",
    "        ch = sensor[1]\n",
    "        if sensor[0]=='msr':\n",
    "            device = self.msr\n",
    "            if ch != 1 or ch != 3:\n",
    "                print('wrong sensor channel for msr, defaulting to 1')\n",
    "                ch = 1\n",
    "        elif sensor[0]=='ob1':\n",
    "            device = self.ob1\n",
    "            ch = 1\n",
    "        \n",
    "        self.set_valves('water', 'tflask')\n",
    "        while cur_time < timeout:\n",
    "            y,flag = device.meas_flowrate(channel=ch)\n",
    "            if flag == 0:\n",
    "                err = setpoint - y\n",
    "                \n",
    "                if np.abs(setpoint) > 0.0:\n",
    "                    if np.abs(err/setpoint): \n",
    "                        print('Sampling done')\n",
    "                        setpoint = 0.0\n",
    "                        self.set_valves('air', 'waste')\n",
    "                        # reset pid\n",
    "#                     break\n",
    "\n",
    "                err_i = err_i + err*dt\n",
    "                err_d = (err - err_prev)/dt\n",
    "\n",
    "                x = Kp*err + Ki*err_i + Kd*err_d\n",
    "\n",
    "                if x > 1000:\n",
    "                    print('Pressure over range {}'.format(x))\n",
    "                    x = 1000.0\n",
    "                elif x < -900:\n",
    "                    print('Pressure under range {}'.format(x))\n",
    "                    x = -900.0\n",
    "\n",
    "                poe.ob1.set_pressure(x)\n",
    "\n",
    "                x_arr.append(x)\n",
    "                y_arr.append(y)\n",
    "                t_arr.append(cur_time)\n",
    "\n",
    "\n",
    "                err_prev = err\n",
    "                cur_time = time()-start_time\n",
    "                print('Time {:5.5g}: err={:5.5g} err_i={:5.5g} y={:5.5g} x={:5.5g}'.format(cur_time, err, err_i, y, x))\n",
    "            else:\n",
    "                print('Flow rate sensor error {}, value {}'.format(flag, y))\n",
    "\n",
    "            sleep(dt)\n",
    "            \n",
    "        self.ob1.set_pressure(0)\n",
    "        self.set_valves('air', 'waste')\n",
    "    \n",
    "    def push(self, pressure=100, timeout=30):\n",
    "        \"\"\"\n",
    "        Push or pulls a certain volume or for some time using OB1 and connected flow sensor        \n",
    "        Parameters:\n",
    "            flowrate: float (target flow rate in uL/min)\n",
    "        return: timestamp\n",
    "        \"\"\"\n",
    "        pass\n",
    "        \n",
    "    def pushpull(self, mode, target, pressure = 100, timeout=30):\n",
    "        \"\"\"\n",
    "        Push or pulls a certain volume or for some time using OB1 and connected flow sensor        \n",
    "        Parameters:\n",
    "            mode: integer (0: time mode, 1: volume mode)\n",
    "            target: float (in seconds and uL)\n",
    "            pressure: float (pressure in mbar)\n",
    "            flowrate: float (target flow rate in uL/min)\n",
    "        return: timestamp, volume\n",
    "        \"\"\"\n",
    "        from time import time, sleep\n",
    "        time_step = 0.5\n",
    "        \n",
    "        if mode >1 or mode <0:\n",
    "            print('Error sampler.pull: mode has to be integer 0 or 1')\n",
    "            return -1\n",
    "        if target < 0 :\n",
    "            print('Error sampler.pull: target has to be a positive float')\n",
    "            return -1\n",
    "        vol_data = []\n",
    "        time_data = []\n",
    "        cur_vol = 0.0\n",
    "        \n",
    "        \n",
    "        self.ob1.set_pressure(pressure)\n",
    "        start_time = time()\n",
    "        cur_time = time()\n",
    "        if mode == 0: # timer mode            \n",
    "            while cur_time-start_time < target:                \n",
    "                flowrate,error = self.ob1.meas_flowrate()\n",
    "                \n",
    "                next_time = time()\n",
    "                cur_vol = cur_vol + flowrate/60*(next_time-cur_time)\n",
    "                cur_time = time()\n",
    "                \n",
    "                vol_data.append(cur_vol)\n",
    "                time_data.append(cur_time)\n",
    "                print('{} uL/min, cumulative {} uL at {} sec'.format(flowrate, cur_vol, cur_time-start_time))\n",
    "                \n",
    "                sleep(time_step)\n",
    "                \n",
    "        elif mode == 1:   # volume mode\n",
    "            if pressure <0:\n",
    "                pol = -1.0\n",
    "            else:\n",
    "                pol = 1.0\n",
    "            while cur_time-start_time < timeout and pol*cur_vol < target:\n",
    "                flowrate,error = self.ob1.meas_flowrate()\n",
    "                \n",
    "                next_time = time()\n",
    "                cur_vol = cur_vol + flowrate/60*(next_time-cur_time)\n",
    "                cur_time = time()\n",
    "                \n",
    "                vol_data.append(cur_vol)\n",
    "                time_data.append(cur_time)\n",
    "                print('{} uL/min, cumulative {} uL at {} sec'.format(flowrate, cur_vol, cur_time-start_time))\n",
    "                \n",
    "                sleep(time_step)\n",
    "                \n",
    "        self.ob1.set_pressure(0)\n",
    "        \n",
    "        return time_data, vol_data\n",
    "    \n",
    "    def __del__(self):\n",
    "        \n",
    "        self.set_valves('air', 'waste')\n",
    "        self.ob1.set_pressure(0)\n",
    "        "
   ]
  },
  {
   "cell_type": "code",
   "execution_count": 22,
   "metadata": {},
   "outputs": [
    {
     "name": "stdout",
     "output_type": "stream",
     "text": [
      "b'Instrument name and regulator types hardcoded in the python script'\n",
      "C:\\Users\\Admin\\Documents\\GitHub\\fluid-auto-sampler\\control_scripts\\ob1_calibration.txt\n",
      "0\n",
      "0\n"
     ]
    },
    {
     "data": {
      "text/plain": [
       "0"
      ]
     },
     "execution_count": 22,
     "metadata": {},
     "output_type": "execute_result"
    }
   ],
   "source": [
    "poe = sampler()\n",
    "\n",
    "poe.set_valves('air', 'waste')\n",
    "poe.ob1.set_pressure(0)\n"
   ]
  },
  {
   "cell_type": "code",
   "execution_count": 25,
   "metadata": {},
   "outputs": [
    {
     "ename": "NameError",
     "evalue": "name 'poe' is not defined",
     "output_type": "error",
     "traceback": [
      "\u001b[1;31m---------------------------------------------------------------------------\u001b[0m",
      "\u001b[1;31mNameError\u001b[0m                                 Traceback (most recent call last)",
      "\u001b[1;32m<ipython-input-25-f88c30c275b9>\u001b[0m in \u001b[0;36m<module>\u001b[1;34m\u001b[0m\n\u001b[1;32m----> 1\u001b[1;33m \u001b[1;32mdel\u001b[0m \u001b[0mpoe\u001b[0m\u001b[1;33m\u001b[0m\u001b[1;33m\u001b[0m\u001b[0m\n\u001b[0m",
      "\u001b[1;31mNameError\u001b[0m: name 'poe' is not defined"
     ]
    }
   ],
   "source": [
    "del poe"
   ]
  },
  {
   "cell_type": "code",
   "execution_count": 23,
   "metadata": {},
   "outputs": [
    {
     "name": "stdout",
     "output_type": "stream",
     "text": [
      "wrong sensor channel for msr, defaulting to 1\n",
      "Time 0.34302: err=-506.2 err_i=-75.93 y=  6.2 x=-158.61\n",
      "Time 0.50203: err= -501 err_i=-151.08 y=    1 x=-155.29\n",
      "Time 0.66104: err=-495.6 err_i=-225.42 y= -4.4 x=-168.8\n",
      "Time 0.81905: err=-490.4 err_i=-298.98 y= -9.6 x=-182.22\n",
      "Time 0.97906: err=-495.8 err_i=-373.35 y= -4.2 x=-198.8\n",
      "Time 1.1481: err= -501 err_i=-448.5 y=    1 x=-215.12\n",
      "Time 1.3071: err=-495.6 err_i=-522.84 y= -4.4 x=-228.29\n",
      "Time 1.4641: err=-495.8 err_i=-597.21 y= -4.2 x=-243.4\n",
      "Time 1.6241: err=-500.8 err_i=-672.33 y=  0.8 x=-259.83\n",
      "Time 1.7831: err=-506.2 err_i=-748.26 y=  6.2 x=-276.38\n",
      "Time 1.9411: err= -485 err_i=-821.01 y=  -15 x=-284.75\n",
      "Time 2.1001: err=-490.4 err_i=-894.57 y= -9.6 x=-301.69\n",
      "Time 2.2591: err=-495.8 err_i=-968.94 y= -4.2 x=-317.92\n",
      "Time 2.4161: err=-495.6 err_i=-1043.3 y= -4.4 x=-332.55\n",
      "Time 2.5751: err= -501 err_i=-1118.4 y=    1 x=-349.12\n",
      "Time 2.7332: err= -501 err_i=-1193.6 y=    1 x=-363.97\n",
      "Time 2.8912: err=-479.8 err_i=-1265.5 y=-20.2 x=-372.35\n",
      "Time 3.0492: err=-506.2 err_i=-1341.5 y=  6.2 x=-395.73\n",
      "Time 3.2072: err=-506.2 err_i=-1417.4 y=  6.2 x=-410.03\n",
      "Time 3.3672: err=-506.2 err_i=-1493.3 y=  6.2 x=-425.22\n",
      "Time 3.5252: err=-506.2 err_i=-1569.3 y=  6.2 x=-440.4\n",
      "Time 3.6862: err=-495.6 err_i=-1643.6 y= -4.4 x=-452.27\n",
      "Time 3.8452: err= -501 err_i=-1718.8 y=    1 x=-469.18\n",
      "Time 4.0042: err= -506 err_i=-1794.7 y=    6 x=-485.6\n",
      "Time 4.1622: err=-506.2 err_i=-1870.6 y=  6.2 x=-500.67\n",
      "Time 4.3212: err=-495.8 err_i=-1945 y= -4.2 x=-512.6\n",
      "Time 4.4793: err= -501 err_i=-2020.1 y=    1 x=-529.45\n",
      "Time 4.6363: err=-506.2 err_i=-2096 y=  6.2 x=-545.93\n",
      "Time 4.7943: err=-495.6 err_i=-2170.4 y= -4.4 x=-557.62\n",
      "Time 4.9533: err= -501 err_i=-2245.5 y=    1 x=-574.54\n",
      "Time 5.1133: err=-490.4 err_i=-2319.1 y= -9.6 x=-586.06\n",
      "Time 5.2733: err=-506.2 err_i=-2395 y=  6.2 x=-606.08\n",
      "Time 5.4333: err=-490.2 err_i=-2468.6 y= -9.8 x=-615.73\n",
      "Time 5.5933: err=-490.2 err_i=-2542.1 y= -9.8 x=-630.97\n",
      "Time 5.7523: err=-495.8 err_i=-2616.5 y= -4.2 x=-647.43\n",
      "Time 5.9133: err=-490.4 err_i=-2690 y= -9.6 x=-660.42\n",
      "Time 6.0743: err=-495.6 err_i=-2764.4 y= -4.4 x=-676.94\n",
      "Time 6.2344: err= -501 err_i=-2839.5 y=    1 x=-693.33\n",
      "Time 6.3944: err=-495.8 err_i=-2913.9 y= -4.2 x=-706.55\n",
      "Time 6.5544: err=-495.6 err_i=-2988.2 y= -4.4 x=-721.54\n",
      "Time 6.7154: err= -501 err_i=-3063.4 y=    1 x=-738.1\n",
      "Time 6.8754: err=-495.8 err_i=-3137.7 y= -4.2 x=-751.32\n",
      "Time 7.0354: err=-490.2 err_i=-3211.3 y= -9.8 x=-764.62\n",
      "Time 7.1964: err=-495.8 err_i=-3285.6 y= -4.2 x=-781.26\n",
      "Time 7.3564: err=-495.8 err_i=-3360 y= -4.2 x=-795.95\n",
      "Time 7.5174: err=-490.2 err_i=-3433.5 y= -9.8 x=-809.07\n",
      "Time 7.6774: err=-490.4 err_i=-3507.1 y= -9.6 x=-824.02\n",
      "Time 7.8374: err=-490.2 err_i=-3580.6 y= -9.8 x=-838.67\n",
      "Time 7.9985: err=-495.8 err_i=-3655 y= -4.2 x=-855.13\n",
      "Time 8.1635: err=-495.8 err_i=-3729.4 y= -4.2 x=-869.82\n",
      "Time 8.3255: err= -501 err_i=-3804.5 y=    1 x=-886.33\n",
      "Pressure under range -902.8113333333334\n",
      "Time 8.4865: err=-506.2 err_i=-3880.4 y=  6.2 x= -900\n",
      "Pressure under range -916.1320000000003\n",
      "Time 8.6495: err=-500.8 err_i=-3955.6 y=  0.8 x= -900\n",
      "Pressure under range -929.7693333333336\n",
      "Time 8.8135: err=-495.8 err_i=-4029.9 y= -4.2 x= -900\n",
      "Pressure under range -944.8100000000003\n",
      "Time 8.9795: err=-495.8 err_i=-4104.3 y= -4.2 x= -900\n",
      "Pressure under range -959.6840000000003\n",
      "Time 9.1405: err=-495.8 err_i=-4178.7 y= -4.2 x= -900\n",
      "Pressure under range -974.5580000000002\n",
      "Time 9.3005: err=-495.8 err_i=-4253 y= -4.2 x= -900\n",
      "Pressure under range -992.690666666667\n",
      "Time 9.4585: err=-506.2 err_i=-4329 y=  6.2 x= -900\n",
      "Pressure under range -1007.5300000000003\n",
      "Time 9.6165: err=-506.2 err_i=-4404.9 y=  6.2 x= -900\n",
      "Pressure under range -1022.6533333333336\n",
      "Time 9.7766: err= -506 err_i=-4480.8 y=    6 x= -900\n",
      "Time 9.9356: err= 5000 err_i=-3730.8 y=-5500 x=687.37\n",
      "Pressure under range -1115.9920000000004\n",
      "Time 10.095: err=-648.4 err_i=-3828.1 y=148.4 x= -900\n",
      "Time 10.254: err= 1901 err_i=-3542.9 y=-2401 x=-148.35\n",
      "Time 10.414: err= 1390 err_i=-3334.4 y=-1890 x=-336.42\n",
      "Time 10.573: err=1180.6 err_i=-3157.3 y=-1680.6 x=-343.29\n",
      "Time 10.731: err= 1049 err_i=-3000 y=-1549 x=-342.13\n",
      "Time 10.889: err= 1093 err_i=-2836 y=-1593 x=-292.49\n",
      "Time 11.048: err=1004.8 err_i=-2685.3 y=-1504.8 x=-288.8\n",
      "Time 11.206: err=919.2 err_i=-2547.4 y=-1419.2 x=-282.54\n",
      "Time 11.365: err=919.2 err_i=-2409.5 y=-1419.2 x=-252.11\n",
      "Time 11.523: err=1002.6 err_i=-2259.2 y=-1502.6 x=-198.4\n",
      "Time 11.682: err=660.4 err_i=-2160.1 y=-1160.4 x=-278.32\n",
      "Time 11.842: err=843.2 err_i=-2033.6 y=-1343.2 x=-189.83\n",
      "Time 12.001: err=  627 err_i=-1939.6 y=-1127 x=-238.37\n",
      "Time 12.159: err=  697 err_i=-1835 y=-1197 x=-190.42\n",
      "Time 12.318: err=439.6 err_i=-1769.1 y=-939.6 x=-252.49\n",
      "Time 12.479: err=497.8 err_i=-1694.4 y=-997.8 x=-212.49\n",
      "Time 12.638: err=437.6 err_i=-1628.8 y=-937.6 x=-218.36\n",
      "Time 12.804: err=416.4 err_i=-1566.3 y=-916.4 x=-209.87\n",
      "Time 12.965: err=360.4 err_i=-1512.2 y=-860.4 x=-214.21\n",
      "Time 13.126: err=336.6 err_i=-1461.8 y=-836.6 x=-208.99\n",
      "Time 13.285: err=307.4 err_i=-1415.6 y=-807.4 x=-207.25\n",
      "Time 13.445: err=310.6 err_i=-1369.1 y=-810.6 x=-196.05\n",
      "Time 13.603: err=  239 err_i=-1333.2 y= -739 x=-209.28\n",
      "Time 13.761: err=284.8 err_i=-1290.5 y=-784.8 x=-185.37\n",
      "Time 13.922: err=218.8 err_i=-1257.7 y=-718.8 x=-199.03\n",
      "Time 14.083: err=218.6 err_i=-1224.9 y=-718.6 x=-190.33\n",
      "Time 14.243: err=218.8 err_i=-1192.1 y=-718.8 x=-183.7\n",
      "Time 14.401: err=198.4 err_i=-1162.3 y=-698.4 x=-183.54\n",
      "Time 14.559: err=159.8 err_i=-1138.3 y=-659.8 x= -189\n",
      "Time 14.719: err=  178 err_i=-1111.6 y= -678 x=-177.22\n",
      "Time 14.878: err=159.8 err_i=-1087.7 y=-659.8 x=-178.19\n",
      "Time 15.038: err=139.2 err_i=-1066.8 y=-639.2 x=-179.24\n",
      "Time 15.196: err=  121 err_i=-1048.6 y= -621 x=-180.08\n",
      "Time 15.355: err=141.6 err_i=-1027.4 y=-641.6 x=-169.39\n",
      "Time 15.515: err= 84.4 err_i=-1014.7 y=-584.4 x=-183.75\n",
      "Time 15.677: err=  121 err_i=-996.57 y= -621 x=-167.84\n",
      "Time 15.84: err= 84.4 err_i=-983.91 y=-584.4 x=-176.9\n",
      "Sampling done\n",
      "Time 16.262: err= 35.2 err_i=-978.63 y=-535.2 x=-188.57\n"
     ]
    },
    {
     "ename": "ZeroDivisionError",
     "evalue": "float division by zero",
     "output_type": "error",
     "traceback": [
      "\u001b[1;31m---------------------------------------------------------------------------\u001b[0m",
      "\u001b[1;31mZeroDivisionError\u001b[0m                         Traceback (most recent call last)",
      "\u001b[1;32m<ipython-input-23-8ab1dc61011a>\u001b[0m in \u001b[0;36m<module>\u001b[1;34m\u001b[0m\n\u001b[1;32m----> 1\u001b[1;33m \u001b[0mpoe\u001b[0m\u001b[1;33m.\u001b[0m\u001b[0msample\u001b[0m\u001b[1;33m(\u001b[0m\u001b[0msensor\u001b[0m\u001b[1;33m=\u001b[0m\u001b[1;33m(\u001b[0m\u001b[1;34m\"msr\"\u001b[0m\u001b[1;33m,\u001b[0m \u001b[1;36m1\u001b[0m\u001b[1;33m)\u001b[0m\u001b[1;33m,\u001b[0m \u001b[0msetpoint\u001b[0m\u001b[1;33m=\u001b[0m\u001b[1;33m-\u001b[0m\u001b[1;36m500\u001b[0m\u001b[1;33m,\u001b[0m \u001b[0mtrigger\u001b[0m\u001b[1;33m=\u001b[0m\u001b[1;36m0.1\u001b[0m\u001b[1;33m,\u001b[0m \u001b[0mtimeout\u001b[0m\u001b[1;33m=\u001b[0m\u001b[1;36m30\u001b[0m\u001b[1;33m)\u001b[0m\u001b[1;33m\u001b[0m\u001b[1;33m\u001b[0m\u001b[0m\n\u001b[0m",
      "\u001b[1;32m<ipython-input-21-365c4bdb3db5>\u001b[0m in \u001b[0;36msample\u001b[1;34m(self, sensor, setpoint, trigger, timeout)\u001b[0m\n\u001b[0;32m    360\u001b[0m                 \u001b[0merr\u001b[0m \u001b[1;33m=\u001b[0m \u001b[0msetpoint\u001b[0m \u001b[1;33m-\u001b[0m \u001b[0my\u001b[0m\u001b[1;33m\u001b[0m\u001b[1;33m\u001b[0m\u001b[0m\n\u001b[0;32m    361\u001b[0m \u001b[1;33m\u001b[0m\u001b[0m\n\u001b[1;32m--> 362\u001b[1;33m                 \u001b[1;32mif\u001b[0m \u001b[0mnp\u001b[0m\u001b[1;33m.\u001b[0m\u001b[0mabs\u001b[0m\u001b[1;33m(\u001b[0m\u001b[0merr\u001b[0m\u001b[1;33m/\u001b[0m\u001b[0msetpoint\u001b[0m\u001b[1;33m)\u001b[0m \u001b[1;33m<\u001b[0m \u001b[0mtrigger\u001b[0m \u001b[1;32mand\u001b[0m \u001b[0mnp\u001b[0m\u001b[1;33m.\u001b[0m\u001b[0mabs\u001b[0m\u001b[1;33m(\u001b[0m\u001b[0msetpoint\u001b[0m\u001b[1;33m)\u001b[0m \u001b[1;33m>\u001b[0m \u001b[1;36m0.0\u001b[0m\u001b[1;33m:\u001b[0m\u001b[1;33m\u001b[0m\u001b[1;33m\u001b[0m\u001b[0m\n\u001b[0m\u001b[0;32m    363\u001b[0m                     \u001b[0mprint\u001b[0m\u001b[1;33m(\u001b[0m\u001b[1;34m'Sampling done'\u001b[0m\u001b[1;33m)\u001b[0m\u001b[1;33m\u001b[0m\u001b[1;33m\u001b[0m\u001b[0m\n\u001b[0;32m    364\u001b[0m                     \u001b[0msetpoint\u001b[0m \u001b[1;33m=\u001b[0m \u001b[1;36m0.0\u001b[0m\u001b[1;33m\u001b[0m\u001b[1;33m\u001b[0m\u001b[0m\n",
      "\u001b[1;31mZeroDivisionError\u001b[0m: float division by zero"
     ]
    }
   ],
   "source": [
    "poe.sample(sensor=(\"msr\", 1), setpoint=-500, trigger=0.1, timeout=30)"
   ]
  },
  {
   "cell_type": "code",
   "execution_count": 12,
   "metadata": {},
   "outputs": [
    {
     "name": "stdout",
     "output_type": "stream",
     "text": [
      "0\n",
      "error add digital flow sensor on channel 1:0\n",
      "error add digital flow sensor on channel 3:0\n"
     ]
    }
   ],
   "source": [
    "sens = msr()"
   ]
  },
  {
   "cell_type": "code",
   "execution_count": 19,
   "metadata": {},
   "outputs": [],
   "source": [
    "del sens"
   ]
  },
  {
   "cell_type": "code",
   "execution_count": 18,
   "metadata": {},
   "outputs": [
    {
     "data": {
      "text/plain": [
       "(-4.310344827586207, 0)"
      ]
     },
     "execution_count": 18,
     "metadata": {},
     "output_type": "execute_result"
    }
   ],
   "source": [
    "sens.meas_flowrate(channel=3)"
   ]
  },
  {
   "cell_type": "code",
   "execution_count": 57,
   "metadata": {},
   "outputs": [],
   "source": [
    "del sens"
   ]
  },
  {
   "cell_type": "code",
   "execution_count": 133,
   "metadata": {},
   "outputs": [
    {
     "data": {
      "text/plain": [
       "0"
      ]
     },
     "execution_count": 133,
     "metadata": {},
     "output_type": "execute_result"
    }
   ],
   "source": [
    "poe.set_valves('air', 'waste')"
   ]
  },
  {
   "cell_type": "code",
   "execution_count": 17,
   "metadata": {},
   "outputs": [
    {
     "data": {
      "text/plain": [
       "0"
      ]
     },
     "execution_count": 17,
     "metadata": {},
     "output_type": "execute_result"
    }
   ],
   "source": [
    "poe.set_valves('air', 'tflask')"
   ]
  },
  {
   "cell_type": "code",
   "execution_count": 16,
   "metadata": {},
   "outputs": [
    {
     "data": {
      "text/plain": [
       "0"
      ]
     },
     "execution_count": 16,
     "metadata": {},
     "output_type": "execute_result"
    }
   ],
   "source": [
    "poe.ob1.set_pressure(400)"
   ]
  },
  {
   "cell_type": "code",
   "execution_count": 7,
   "metadata": {},
   "outputs": [
    {
     "data": {
      "text/plain": [
       "0"
      ]
     },
     "execution_count": 7,
     "metadata": {},
     "output_type": "execute_result"
    }
   ],
   "source": [
    "poe.ob1.set_pressure(5)"
   ]
  },
  {
   "cell_type": "code",
   "execution_count": 18,
   "metadata": {},
   "outputs": [
    {
     "data": {
      "text/plain": [
       "0"
      ]
     },
     "execution_count": 18,
     "metadata": {},
     "output_type": "execute_result"
    }
   ],
   "source": [
    "poe.ob1.set_pressure(0)"
   ]
  },
  {
   "cell_type": "code",
   "execution_count": 123,
   "metadata": {},
   "outputs": [
    {
     "data": {
      "text/plain": [
       "(6.0, 0)"
      ]
     },
     "execution_count": 123,
     "metadata": {},
     "output_type": "execute_result"
    }
   ],
   "source": [
    "poe.ob1.meas_flowrate()"
   ]
  },
  {
   "cell_type": "code",
   "execution_count": null,
   "metadata": {},
   "outputs": [],
   "source": [
    "poe.msr.meas_flowrate(channel=1)"
   ]
  },
  {
   "cell_type": "code",
   "execution_count": 50,
   "metadata": {},
   "outputs": [
    {
     "name": "stdout",
     "output_type": "stream",
     "text": [
      "Press ch 1:  3.9587616007997894\n"
     ]
    },
    {
     "data": {
      "text/plain": [
       "(3.9587616007997894, 0)"
      ]
     },
     "execution_count": 50,
     "metadata": {},
     "output_type": "execute_result"
    }
   ],
   "source": [
    "poe.ob1.meas_pressure()"
   ]
  },
  {
   "cell_type": "code",
   "execution_count": 6,
   "metadata": {},
   "outputs": [
    {
     "name": "stdout",
     "output_type": "stream",
     "text": [
      "Time 0.0090005: err=-220.8 err_i=-33.12 y= 20.8 x=-124.38\n",
      "Time 0.16801: err= -221 err_i=-66.27 y=   21 x=-123.76\n",
      "Time 0.32802: err= -221 err_i=-99.42 y=   21 x=-130.38\n",
      "Time 0.48803: err=-220.8 err_i=-132.54 y= 20.8 x=-136.9\n",
      "Time 0.65404: err= -211 err_i=-164.19 y=   11 x=-138.01\n",
      "Time 0.81405: err= -221 err_i=-197.34 y=   21 x=-150.3\n",
      "Time 0.97406: err= -211 err_i=-228.99 y=   11 x=-150.96\n",
      "Time 1.1351: err= -226 err_i=-262.89 y=   26 x=-166.08\n",
      "Time 1.2941: err=-201.2 err_i=-293.07 y=  1.2 x=-158.39\n",
      "Time 1.4551: err=-215.8 err_i=-325.44 y= 15.8 x=-173.47\n",
      "Time 1.6151: err=-215.8 err_i=-357.81 y= 15.8 x=-179.46\n",
      "Time 1.7751: err= -206 err_i=-388.71 y=    6 x=-180.42\n",
      "Time 1.9351: err= -221 err_i=-421.86 y=   21 x=-195.37\n",
      "Time 2.0961: err=-215.8 err_i=-454.23 y= 15.8 x=-198.57\n",
      "Time 2.2551: err= -226 err_i=-488.13 y=   26 x=-210.97\n",
      "Time 2.4171: err= -231 err_i=-522.78 y=   31 x=-220.22\n",
      "Time 2.5771: err= -226 err_i=-556.68 y=   26 x=-224.17\n",
      "Time 2.7372: err= -211 err_i=-588.33 y=   11 x=-222.67\n",
      "Time 2.8982: err= -216 err_i=-620.73 y=   16 x=-232.31\n",
      "Time 3.0582: err=-220.8 err_i=-653.85 y= 20.8 x=-241.33\n",
      "Time 3.2182: err=-210.8 err_i=-685.47 y= 10.8 x=-242.16\n",
      "Time 3.3782: err=-210.8 err_i=-717.09 y= 10.8 x=-248.82\n",
      "Time 3.5412: err=-215.8 err_i=-749.46 y= 15.8 x=-257.96\n",
      "Time 3.7012: err= -231 err_i=-784.11 y=   31 x=-272.83\n",
      "Time 3.8612: err=-220.8 err_i=-817.23 y= 20.8 x=-273.51\n",
      "Time 4.0212: err= -221 err_i=-850.38 y=   21 x=-280.58\n",
      "Time 4.1812: err= -226 err_i=-884.28 y=   26 x=-290.02\n",
      "Time 4.3422: err=-215.8 err_i=-916.65 y= 15.8 x=-290.89\n",
      "Time 4.5033: err=-215.8 err_i=-949.02 y= 15.8 x=-297.7\n",
      "Time 4.6633: err=-220.8 err_i=-982.14 y= 20.8 x=-306.99\n",
      "Time 4.8253: err=-215.8 err_i=-1014.5 y= 15.8 x=-310.64\n",
      "Time 4.9853: err=-220.8 err_i=-1047.6 y= 20.8 x=-320.09\n",
      "Time 5.1443: err= -221 err_i=-1080.8 y=   21 x=-326.66\n",
      "Time 5.3053: err= -226 err_i=-1114.7 y=   26 x=-336.1\n",
      "Time 5.4653: err= -226 err_i=-1148.6 y=   26 x=-342.72\n",
      "Time 5.6263: err= -211 err_i=-1180.2 y=   11 x=-341.05\n",
      "Time 5.7863: err=-215.8 err_i=-1212.6 y= 15.8 x=-350.58\n",
      "Time 5.9463: err=-210.8 err_i=-1244.2 y= 10.8 x=-354.08\n",
      "Time 6.1063: err= -206 err_i=-1275.1 y=    6 x=-357.86\n",
      "Time 6.2664: err= -221 err_i=-1308.3 y=   21 x=-372.65\n",
      "Time 6.4254: err= -226 err_i=-1342.2 y=   26 x=-381.6\n",
      "Time 6.5854: err=-215.8 err_i=-1374.5 y= 15.8 x=-382.47\n",
      "Time 6.7454: err= -221 err_i=-1407.7 y=   21 x=-392.21\n",
      "Time 6.9054: err= -226 err_i=-1441.6 y=   26 x=-401.48\n",
      "Time 7.0654: err= -226 err_i=-1475.5 y=   26 x=-408.1\n",
      "Time 7.2254: err=-210.8 err_i=-1507.1 y= 10.8 x=-406.32\n",
      "Time 7.3844: err=-215.8 err_i=-1539.5 y= 15.8 x=-415.96\n",
      "Time 7.5454: err=-210.8 err_i=-1571.1 y= 10.8 x=-419.45\n",
      "Time 7.7114: err=-220.8 err_i=-1604.2 y= 20.8 x=-431.58\n",
      "Time 7.8725: err=-215.8 err_i=-1636.6 y= 15.8 x=-435.05\n",
      "Time 8.0335: err= -201 err_i=-1666.7 y=    1 x=-433.35\n",
      "Time 8.1935: err= -226 err_i=-1700.6 y=   26 x=-453.96\n",
      "Time 8.3535: err=-215.8 err_i=-1733 y= 15.8 x=-454.16\n",
      "Time 8.5135: err= -211 err_i=-1764.7 y=   11 x=-458.27\n",
      "Time 8.6735: err= -226 err_i=-1798.6 y=   26 x=-473.21\n",
      "Time 8.8345: err=-215.8 err_i=-1830.9 y= 15.8 x=-473.75\n",
      "Time 8.9945: err= -221 err_i=-1864.1 y=   21 x=-483.49\n",
      "Time 9.1555: err=-220.8 err_i=-1897.2 y= 20.8 x=-489.83\n",
      "Time 9.3145: err=-215.8 err_i=-1929.6 y= 15.8 x=-493.65\n",
      "Time 9.4755: err=-220.8 err_i=-1962.7 y= 20.8 x=-503.1\n",
      "Time 9.6356: err=-220.8 err_i=-1995.8 y= 20.8 x=-509.56\n",
      "Time 9.7936: err= -216 err_i=-2028.2 y=   16 x=-513.48\n",
      "Time 9.9586: err= -221 err_i=-2061.4 y=   21 x=-522.94\n",
      "Time 10.118: err=-210.8 err_i=-2093 y= 10.8 x=-523.66\n"
     ]
    },
    {
     "data": {
      "image/png": "[encoded data removed]",
      "text/plain": [
       "<Figure size 720x216 with 2 Axes>"
      ]
     },
     "metadata": {
      "needs_background": "light"
     },
     "output_type": "display_data"
    }
   ],
   "source": [
    "from time import sleep, time\n",
    "import matplotlib.pyplot as plt\n",
    "\n",
    "poe.set_valves('air', 'tflask')\n",
    "\n",
    "# PID attempt\n",
    "\n",
    "Kp = 0.5\n",
    "Ki = 0.2\n",
    "Kd = 0.005\n",
    "\n",
    "setpoint = -200.0 # uL/min\n",
    "\n",
    "timeout = 10.0 # sec\n",
    "start_time = time()\n",
    "cur_time = time()-start_time\n",
    "err_i = 0.0\n",
    "err_d = 0.0\n",
    "err_prev = 0.0\n",
    "dt = 0.15 # sec\n",
    "\n",
    "# traces\n",
    "t_arr = []\n",
    "x_arr = []\n",
    "y_arr = []\n",
    "while cur_time < timeout:\n",
    "    y,flag = poe.ob1.meas_flowrate()\n",
    "    if flag == 0:\n",
    "        err = setpoint - y\n",
    "\n",
    "        err_i = err_i + err*dt\n",
    "        err_d = (err - err_prev)/dt\n",
    "\n",
    "        x = Kp*err + Ki*err_i + Kd*err_d\n",
    "        \n",
    "        if x > 1000:\n",
    "            print('Pressure over range {}'.format(x))\n",
    "            x = 1000.0\n",
    "        elif x < -900:\n",
    "            print('Pressure under range {}'.format(x))\n",
    "            x = -900.0\n",
    "            \n",
    "        poe.ob1.set_pressure(x)\n",
    "        \n",
    "        x_arr.append(x)\n",
    "        y_arr.append(y)\n",
    "        t_arr.append(cur_time)\n",
    "        \n",
    "\n",
    "        err_prev = err\n",
    "        cur_time = time()-start_time\n",
    "        print('Time {:5.5g}: err={:5.5g} err_i={:5.5g} y={:5.5g} x={:5.5g}'.format(cur_time, err, err_i, y, x))\n",
    "    else:\n",
    "        print('Flow rate sensor error {}, value {}'.format(flag, y))\n",
    "        \n",
    "    sleep(dt)\n",
    "\n",
    "poe.set_valves('air', 'tflask')\n",
    "poe.ob1.set_pressure(200.0)\n",
    "sleep(5.0)\n",
    "poe.ob1.set_pressure(0.0)\n",
    "\n",
    "\n",
    "# plot results\n",
    "plt.figure(figsize=(10,3))\n",
    "plt.subplot(121)\n",
    "plt.title('Pressure [mbar]')\n",
    "plt.plot(t_arr, x_arr, label='x')\n",
    "plt.xlabel('Time [sec]')\n",
    "\n",
    "\n",
    "plt.subplot(122)\n",
    "plt.title('Y: flowrate [uL/min]')\n",
    "plt.plot(t_arr, y_arr, label='y')\n",
    "plt.plot([t_arr[0],t_arr[-1]], [setpoint, setpoint], label='setpoint')\n",
    "plt.xlabel('Time [sec]')\n",
    "plt.legend()\n",
    "plt.savefig('PID.png', dpi=200)\n",
    "plt.show()"
   ]
  },
  {
   "cell_type": "code",
   "execution_count": 115,
   "metadata": {},
   "outputs": [
    {
     "name": "stdout",
     "output_type": "stream",
     "text": [
      "1.11\n"
     ]
    }
   ],
   "source": [
    "print('{:4.3g}'.format(1.1122))"
   ]
  },
  {
   "cell_type": "code",
   "execution_count": 140,
   "metadata": {},
   "outputs": [
    {
     "name": "stdout",
     "output_type": "stream",
     "text": [
      "sampler.set_valves: Set air reservoir\n",
      "-4.344827586206897 uL/min, cumulative -0.00043448579722437367 uL at 0.006000041961669922 sec\n",
      "-4.344827586206897 uL/min, cumulative -0.03722280880500531 uL at 0.5140292644500732 sec\n",
      "-5.413793103448276 uL/min, cumulative -0.08306220564348944 uL at 1.0220582485198975 sec\n",
      "-5.413793103448276 uL/min, cumulative -0.12890162399445457 uL at 1.5300874710083008 sec\n",
      "-4.344827586206897 uL/min, cumulative -0.16568992973744184 uL at 2.038116455078125 sec\n",
      "-4.344827586206897 uL/min, cumulative -0.20247825274522277 uL at 2.5461456775665283 sec\n",
      "-4.344827586206897 uL/min, cumulative -0.23926655848821005 uL at 3.0541746616363525 sec\n",
      "-4.344827586206897 uL/min, cumulative -0.2760548642311973 uL at 3.5622036457061768 sec\n",
      "-4.344827586206897 uL/min, cumulative -0.31284318723897825 uL at 4.07023286819458 sec\n",
      "-4.344827586206897 uL/min, cumulative -0.3496314929819655 uL at 4.578261852264404 sec\n",
      "-4.344827586206897 uL/min, cumulative -0.38634737291555293 uL at 5.0852906703948975 sec\n",
      "-4.344827586206897 uL/min, cumulative -0.4231356959233339 uL at 5.593319892883301 sec\n",
      "-4.344827586206897 uL/min, cumulative -0.459851593121715 uL at 6.100348949432373 sec\n",
      "-3.2413793103448274 uL/min, cumulative -0.4873508690417498 uL at 6.609378099441528 sec\n",
      "-4.344827586206897 uL/min, cumulative -0.524139174784737 uL at 7.1174070835113525 sec\n",
      "-4.344827586206897 uL/min, cumulative -0.5609274805277243 uL at 7.625436067581177 sec\n",
      "-4.344827586206897 uL/min, cumulative -0.5977157862707116 uL at 8.133465051651001 sec\n",
      "-4.344827586206897 uL/min, cumulative -0.6345041092784925 uL at 8.641494274139404 sec\n",
      "-4.344827586206897 uL/min, cumulative -0.6712924150214798 uL at 9.149523258209229 sec\n",
      "-4.344827586206897 uL/min, cumulative -0.7080807380292607 uL at 9.657552480697632 sec\n",
      "-3.2413793103448274 uL/min, cumulative -0.7355259691161671 uL at 10.165581226348877 sec\n",
      "-4.310344827586207 uL/min, cumulative -0.7720223213064259 uL at 10.67361044883728 sec\n",
      "-4.344827586206897 uL/min, cumulative -0.808883052858813 uL at 11.182639598846436 sec\n",
      "-4.344827586206897 uL/min, cumulative -0.8456713586018003 uL at 11.69066858291626 sec\n",
      "-4.344827586206897 uL/min, cumulative -0.8824596816095812 uL at 12.198697805404663 sec\n",
      "-4.344827586206897 uL/min, cumulative -0.9192479873525685 uL at 12.706726789474487 sec\n",
      "-4.344827586206897 uL/min, cumulative -0.9560362930955558 uL at 13.214755773544312 sec\n",
      "-4.344827586206897 uL/min, cumulative -0.9928245988385431 uL at 13.722784757614136 sec\n",
      "-4.310344827586207 uL/min, cumulative -1.029320951028802 uL at 14.230813980102539 sec\n",
      "-4.344827586206897 uL/min, cumulative -1.0661092567717891 uL at 14.738842964172363 sec\n",
      "-4.344827586206897 uL/min, cumulative -1.1028975797795701 uL at 15.246872186660767 sec\n",
      "-4.344827586206897 uL/min, cumulative -1.1396858682577637 uL at 15.754900932312012 sec\n",
      "-4.344827586206897 uL/min, cumulative -1.1764741912655448 uL at 16.262930154800415 sec\n",
      "-5.413793103448276 uL/min, cumulative -1.2223135881040288 uL at 16.77095913887024 sec\n",
      "-4.344827586206897 uL/min, cumulative -1.2591019111118098 uL at 17.278988361358643 sec\n",
      "-4.344827586206897 uL/min, cumulative -1.295890216854797 uL at 17.787017345428467 sec\n",
      "-4.344827586206897 uL/min, cumulative -1.3326785225977842 uL at 18.29504632949829 sec\n",
      "-5.413793103448276 uL/min, cumulative -1.3785179194362682 uL at 18.803075313568115 sec\n",
      "-4.344827586206897 uL/min, cumulative -1.4153062424440492 uL at 19.31110453605652 sec\n",
      "-4.344827586206897 uL/min, cumulative -1.4520945481870364 uL at 19.819133520126343 sec\n",
      "-4.344827586206897 uL/min, cumulative -1.4889552797394234 uL at 20.328162670135498 sec\n",
      "-4.344827586206897 uL/min, cumulative -1.5257435854824106 uL at 20.836191654205322 sec\n",
      "-4.344827586206897 uL/min, cumulative -1.5625318912253978 uL at 21.344220638275146 sec\n",
      "-4.344827586206897 uL/min, cumulative -1.5993202142331788 uL at 21.85224986076355 sec\n",
      "-4.344827586206897 uL/min, cumulative -1.636108519976166 uL at 22.360278844833374 sec\n",
      "-4.344827586206897 uL/min, cumulative -1.672896842983947 uL at 22.868308067321777 sec\n",
      "-4.344827586206897 uL/min, cumulative -1.7096851314621406 uL at 23.376336812973022 sec\n",
      "-4.344827586206897 uL/min, cumulative -1.7464734544699216 uL at 23.884366035461426 sec\n",
      "-4.344827586206897 uL/min, cumulative -1.7832617602129088 uL at 24.39239501953125 sec\n",
      "-4.344827586206897 uL/min, cumulative -1.8200500832206898 uL at 24.900424242019653 sec\n",
      "-5.413793103448276 uL/min, cumulative -1.8657992567139108 uL at 25.407453298568726 sec\n",
      "-4.344827586206897 uL/min, cumulative -1.9026599710015042 uL at 25.9164822101593 sec\n",
      "-4.344827586206897 uL/min, cumulative -1.9394482767444914 uL at 26.424511194229126 sec\n",
      "-4.344827586206897 uL/min, cumulative -1.9763090082968784 uL at 26.93354034423828 sec\n",
      "-4.344827586206897 uL/min, cumulative -2.0131697398492654 uL at 27.442569494247437 sec\n",
      "-4.344827586206897 uL/min, cumulative -2.0500304714016524 uL at 27.951598644256592 sec\n",
      "-4.344827586206897 uL/min, cumulative -2.0868912029540394 uL at 28.460627794265747 sec\n",
      "-5.413793103448276 uL/min, cumulative -2.1328208446502677 uL at 28.969656944274902 sec\n",
      "-5.413793103448276 uL/min, cumulative -2.178750486346496 uL at 29.478686094284058 sec\n",
      "-5.413793103448276 uL/min, cumulative -2.2246801065302435 uL at 29.987715005874634 sec\n",
      "-4.344827586206897 uL/min, cumulative -2.2614684295380245 uL at 30.495744228363037 sec\n",
      "-5.413793103448276 uL/min, cumulative -2.307398071234253 uL at 31.004773378372192 sec\n",
      "-4.344827586206897 uL/min, cumulative -2.344403637140646 uL at 31.51580262184143 sec\n",
      "-5.413793103448276 uL/min, cumulative -2.390333278836874 uL at 32.024831771850586 sec\n",
      "-4.344827586206897 uL/min, cumulative -2.4269767502258555 uL at 32.53086066246033 sec\n",
      "-5.413793103448276 uL/min, cumulative -2.4728161470643397 uL at 33.03888964653015 sec\n",
      "-5.413793103448276 uL/min, cumulative -2.518655543902824 uL at 33.546918630599976 sec\n",
      "-1100.0 uL/min, cumulative -11.832524622856884 uL at 34.05494785308838 sec\n",
      "-1100.0 uL/min, cumulative -21.128057326256542 uL at 34.56197690963745 sec\n",
      "-1100.0 uL/min, cumulative -30.44192203420332 uL at 35.070005893707275 sec\n",
      "sampler.set_valves: Set air reservoir\n"
     ]
    },
    {
     "data": {
      "image/png": "[encoded data removed]",
      "text/plain": [
       "<Figure size 432x288 with 1 Axes>"
      ]
     },
     "metadata": {
      "needs_background": "light"
     },
     "output_type": "display_data"
    }
   ],
   "source": [
    "import matplotlib.pyplot as plt\n",
    "poe.set_valves('air', 'tflask')\n",
    "time,vol = poe.pushpull(mode=1, target=30, pressure=-20)\n",
    "poe.set_valves('air', 'waste')\n",
    "time_rel = [t-time[0] for t in time]\n",
    "plt.plot(time_rel, vol)\n",
    "plt.xlabel('Time [sec]')\n",
    "plt.ylabel('Volume [uL]')\n",
    "plt.show()"
   ]
  },
  {
   "cell_type": "code",
   "execution_count": 70,
   "metadata": {},
   "outputs": [],
   "source": [
    "del poe"
   ]
  },
  {
   "cell_type": "code",
   "execution_count": 4,
   "metadata": {},
   "outputs": [
    {
     "name": "stdout",
     "output_type": "stream",
     "text": [
      "b'Instrument name and regulator types hardcoded in the python script'\n",
      "C:\\Users\\Admin\\Documents\\GitHub\\fluid-auto-sampler\\control_scripts\\ob1_calibration.txt\n"
     ]
    }
   ],
   "source": [
    "# kenobi=ob1(calibrate=True)\n",
    "kenobi=ob1(calibrate=False)"
   ]
  },
  {
   "cell_type": "code",
   "execution_count": 54,
   "metadata": {},
   "outputs": [
    {
     "name": "stdout",
     "output_type": "stream",
     "text": [
      "99.91674880079995\n"
     ]
    }
   ],
   "source": [
    "p,e = kenobi.meas_pressure()\n",
    "\n",
    "print(p)"
   ]
  },
  {
   "cell_type": "code",
   "execution_count": 26,
   "metadata": {},
   "outputs": [
    {
     "ename": "NameError",
     "evalue": "name 'kenobi' is not defined",
     "output_type": "error",
     "traceback": [
      "\u001b[1;31m---------------------------------------------------------------------------\u001b[0m",
      "\u001b[1;31mNameError\u001b[0m                                 Traceback (most recent call last)",
      "\u001b[1;32m<ipython-input-26-a903819206d4>\u001b[0m in \u001b[0;36m<module>\u001b[1;34m\u001b[0m\n\u001b[1;32m----> 1\u001b[1;33m \u001b[0mkenobi\u001b[0m\u001b[1;33m.\u001b[0m\u001b[0mset_pressure\u001b[0m\u001b[1;33m(\u001b[0m\u001b[1;33m-\u001b[0m\u001b[1;36m50\u001b[0m\u001b[1;33m)\u001b[0m\u001b[1;33m\u001b[0m\u001b[1;33m\u001b[0m\u001b[0m\n\u001b[0m",
      "\u001b[1;31mNameError\u001b[0m: name 'kenobi' is not defined"
     ]
    }
   ],
   "source": [
    "kenobi.set_pressure(-50)"
   ]
  },
  {
   "cell_type": "code",
   "execution_count": 11,
   "metadata": {},
   "outputs": [
    {
     "data": {
      "text/plain": [
       "(-6.551724137931035, 0)"
      ]
     },
     "execution_count": 11,
     "metadata": {},
     "output_type": "execute_result"
    }
   ],
   "source": [
    "kenobi.meas_flowrate()"
   ]
  },
  {
   "cell_type": "code",
   "execution_count": 45,
   "metadata": {},
   "outputs": [
    {
     "name": "stdout",
     "output_type": "stream",
     "text": [
      "0\n"
     ]
    }
   ],
   "source": [
    "mux = mux_wire()"
   ]
  },
  {
   "cell_type": "code",
   "execution_count": 57,
   "metadata": {},
   "outputs": [
    {
     "data": {
      "text/plain": [
       "0"
      ]
     },
     "execution_count": 57,
     "metadata": {},
     "output_type": "execute_result"
    }
   ],
   "source": [
    "state = [1, 0, 0, 0, 0, 0, 0, 0]\n",
    "mux.set_all_valves(state)"
   ]
  },
  {
   "cell_type": "code",
   "execution_count": 38,
   "metadata": {},
   "outputs": [
    {
     "data": {
      "text/plain": [
       "True"
      ]
     },
     "execution_count": 38,
     "metadata": {},
     "output_type": "execute_result"
    }
   ],
   "source": [
    "isinstance(state, list)"
   ]
  },
  {
   "cell_type": "code",
   "execution_count": 7,
   "metadata": {},
   "outputs": [
    {
     "name": "stdout",
     "output_type": "stream",
     "text": [
      "./ob1_calibration.txt\n",
      "C:\\Users\\Admin\\Documents\\GitHub\\fluid-auto-sampler\\control_scripts\n",
      "ob1_calibration.txt\n",
      "C:\\Users\\Admin\\Documents\\GitHub\\fluid-auto-sampler\\control_scripts\\ob1_calibration.txt\n"
     ]
    }
   ],
   "source": [
    "print(os.path.expanduser(r'./ob1_calibration.txt'))\n",
    "print(os.getcwd())\n",
    "print(os.path.relpath('ob1_calibration.txt'))\n",
    "print(os.path.abspath('ob1_calibration.txt'))"
   ]
  },
  {
   "cell_type": "code",
   "execution_count": 12,
   "metadata": {},
   "outputs": [
    {
     "ename": "NameError",
     "evalue": "name 'mux' is not defined",
     "output_type": "error",
     "traceback": [
      "\u001b[1;31m---------------------------------------------------------------------------\u001b[0m",
      "\u001b[1;31mNameError\u001b[0m                                 Traceback (most recent call last)",
      "\u001b[1;32m<ipython-input-12-3e794ffe8be0>\u001b[0m in \u001b[0;36m<module>\u001b[1;34m\u001b[0m\n\u001b[0;32m      1\u001b[0m \u001b[1;32mdel\u001b[0m \u001b[0mkenobi\u001b[0m\u001b[1;33m\u001b[0m\u001b[1;33m\u001b[0m\u001b[0m\n\u001b[1;32m----> 2\u001b[1;33m \u001b[1;32mdel\u001b[0m \u001b[0mmux\u001b[0m\u001b[1;33m\u001b[0m\u001b[1;33m\u001b[0m\u001b[0m\n\u001b[0m",
      "\u001b[1;31mNameError\u001b[0m: name 'mux' is not defined"
     ]
    }
   ],
   "source": [
    "del kenobi\n",
    "del mux"
   ]
  },
  {
   "cell_type": "code",
   "execution_count": 13,
   "metadata": {},
   "outputs": [
    {
     "name": "stdout",
     "output_type": "stream",
     "text": [
      "[0, 0, 0, 0, 0, 0, 0, 0]\n"
     ]
    }
   ],
   "source": [
    "print([0]*8)"
   ]
  },
  {
   "cell_type": "code",
   "execution_count": null,
   "metadata": {},
   "outputs": [],
   "source": []
  }
 ],
 "metadata": {
  "kernelspec": {
   "display_name": "Python 3",
   "language": "python",
   "name": "python3"
  },
  "language_info": {
   "codemirror_mode": {
    "name": "ipython",
    "version": 3
   },
   "file_extension": ".py",
   "mimetype": "text/x-python",
   "name": "python",
   "nbconvert_exporter": "python",
   "pygments_lexer": "ipython3",
   "version": "3.8.3"
  }
 },
 "nbformat": 4,
 "nbformat_minor": 4
}
