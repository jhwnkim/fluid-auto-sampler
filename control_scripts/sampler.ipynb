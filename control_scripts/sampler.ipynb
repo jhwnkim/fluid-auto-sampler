{
 "cells": [
  {
   "cell_type": "markdown",
   "metadata": {},
   "source": [
    "# Auto Sampler script\n",
    "## Elveflow Instruments\n",
    "* OB1 pressure controller\n",
    "* MUX Wire\n",
    "* "
   ]
  },
  {
   "cell_type": "markdown",
   "metadata": {},
   "source": [
    "## Import Libraries"
   ]
  },
  {
   "cell_type": "code",
   "execution_count": 1,
   "metadata": {},
   "outputs": [],
   "source": [
    "%reset -f\n",
    "\n",
    "# Import Elveflow library\n",
    "import sys\n",
    "import os\n",
    "from email.header import UTF8\n",
    "# SDK_HOME = 'C:/Users/Admin/ELVEFLOW/SDK_V3_04_04'\n",
    "SDK_HOME = 'C:/Users/Admin/ELVEFLOW/ESI_V3_04_01/SDK V3_04_01'\n",
    "sys.path.append(SDK_HOME+'/DLL64/DLL64')#add the path of the library here\n",
    "sys.path.append(SDK_HOME+'/Python_64')#add the path of the LoadElveflow.py\n",
    "\n",
    "from ctypes import *\n",
    "\n",
    "from array import array\n",
    "\n",
    "from Elveflow64 import *"
   ]
  },
  {
   "cell_type": "markdown",
   "metadata": {},
   "source": [
    "## Instrument Class definitions"
   ]
  },
  {
   "cell_type": "code",
   "execution_count": 40,
   "metadata": {},
   "outputs": [],
   "source": [
    "Z_regulator_type = {\n",
    "    'none': 0,\n",
    "    '0_200_mbar': 1,\n",
    "    '0_2000_mbar': 2,    \n",
    "    '0_8000_mbar': 3,\n",
    "    'm1000_1000_mbar': 4,\n",
    "    'm1000_6000_mbar': 5\n",
    "}\n",
    "Z_sensor_type = {\n",
    "    'none': 0,\n",
    "    'Flow_1_5_uL_min': 1,\n",
    "    'Flow_7_uL_min': 2,\n",
    "    'Flow_50_uL_min': 3,\n",
    "    'Flow_80_uL_min': 4,\n",
    "    'Flow_1000_uL_min': 5,\n",
    "    'Flow_5000_uL_min': 6,\n",
    "    'Press_340_mbar': 7,\n",
    "    'Press_1_bar': 8,\n",
    "    'Press_2_bar': 9,\n",
    "    'Press_7_bar': 10,\n",
    "    'Press_16_bar': 11,\n",
    "    'Level': 12\n",
    "}\n",
    "\n",
    "def _check_error(task, error):\n",
    "    err_dict = {\n",
    "        -8000: 'No Digital Sensor found',\n",
    "        -8001: 'No pressure sensor compatible with OB1 MK3',\n",
    "        -8002: 'No Digital pressure sensor compatible with OB1 MK3+',\n",
    "        -8003: 'No Digital Flow sensor compatible with OB1 MK3',\n",
    "        -8004: 'No IPA config for this sensor',\n",
    "        -8005: 'Sensor not compatible with AF1',\n",
    "        -8006: 'No Instrument with selected ID'\n",
    "    }\n",
    "    if error != 0:\n",
    "        if error in err_dict:\n",
    "            raise RuntimeError('{} failed with error code {}\\n{}'.format(task, error, err_dict[error]))\n",
    "        else:\n",
    "            raise RuntimeError('{} failed with error code {}\\n{}'.format(task, error, 'Unknown error, see http://www.ni.com/pdf/manuals/321551a.pdf'))\n",
    "            \n",
    "class ob1():\n",
    "    def __init__(self, address='01EF64C3', calibrate=False):\n",
    "        self.Instr_ID = c_int32()\n",
    "        print('Instrument name and regulator types hardcoded in the python script'.encode('utf-8'))\n",
    "        # see User guide to determine regulator type NI MAX to determine the instrument name\n",
    "        # channel 1: -1000~1000 mBar, channel 2: none, channel 3: none, channel 4:none\n",
    "        error = OB1_Initialization(address.encode('ascii'), \n",
    "                                   Z_regulator_type['m1000_1000_mbar'], \n",
    "                                   Z_regulator_type['none'], \n",
    "                                   Z_regulator_type['none'], \n",
    "                                   Z_regulator_type['none'], \n",
    "                                   byref(self.Instr_ID))\n",
    "        # all functions will return error code to help you to debug your code, for further information see user guide\n",
    "        _check_error('OB1 Initialization', error)\n",
    "\n",
    "        # add one digital flow sensor to OB1 channel 1, 1mL/min, digital, water calibration, 16bit resolution, \n",
    "        error=OB1_Add_Sens(self.Instr_ID, 1, Z_sensor_type['Flow_1000_uL_min'], 1, 0, 7, 0)\n",
    "        _check_error('Adding digital flow sensor', error)\n",
    "\n",
    "        self.calib_path = os.path.abspath('ob1_calibration.txt')\n",
    "        print(self.calib_path)\n",
    "        self.Calib = (c_double * 1000)()\n",
    "        if calibrate:\n",
    "            print ('Starting calibration')\n",
    "            OB1_Calib(self.Instr_ID.value, self.Calib, 1000)\n",
    "            error = Elveflow_Calibration_Save(self.calib_path.encode('ascii'), byref(self.Calib), 1000)\n",
    "            print ('Calibration finished')\n",
    "            print ('Calibration saved in file %s' % self.calib_path.encode('ascii'))\n",
    "        else:\n",
    "            if not os.path.isfile(self.calib_path):\n",
    "                raise IOError('Calibration file \"{}\" does not exist'.format(self.calib_path))               \n",
    "            error = Elveflow_Calibration_Load(self.calib_path.encode('ascii'), byref(self.Calib), 1000)\n",
    "            _check_error('Loading calibration file', error)            \n",
    "            \n",
    "        self.set_pressure(0)\n",
    "\n",
    "    def meas_flowrate(self, channel=1):\n",
    "        \"\"\"\n",
    "        Measures the instantaneous flow rate, on designated port.\n",
    "        Parameters:\n",
    "            channel: ob1 channel to set (1-4), defaults to 1\n",
    "        return: (flowrate, error code)\n",
    "            flowrate in uL/min\n",
    "            0 : successful\n",
    "            -1 : parameter error\n",
    "            otherwise: NI error\n",
    "        \"\"\"\n",
    "        if channel <1 or channel > 4:\n",
    "            print('ob1.meas_flowrate: channel must be within 1~4')\n",
    "            return -1\n",
    "        \n",
    "        set_channel = c_int32(channel)  # convert to c_int32\n",
    "        get_flowrate = c_double(0.0)\n",
    "        error = OB1_Get_Sens_Data(self.Instr_ID.value, set_channel, 1, byref(get_flowrate))  # Acquire_data =1 -> Read all the analog value\n",
    "        _check_error('Getting data from flow sensor', error)\n",
    "        \n",
    "        return get_flowrate.value, error\n",
    "\n",
    "    def set_pressure(self, pressure, channel=1):\n",
    "        \"\"\"\n",
    "        Sets the pressure, on designated port.\n",
    "        Parameters:\n",
    "            pressure: target pressure in mBar (-1000 to 8000)\n",
    "            channel: ob1 channel to set (1-4), defaults to 1\n",
    "        return: error code\n",
    "            0 : successful\n",
    "            -1 : parameter error\n",
    "            otherwise: NI error\n",
    "        \"\"\"      \n",
    "        \n",
    "        # check parameters\n",
    "        if pressure >8000.0 or pressure < -1000.0:\n",
    "            print('ob1.set_pressure: Error pressure must be within -1000~8000')\n",
    "            return -1\n",
    "        if channel <1 or channel > 4:\n",
    "            print('set_pressure: channel must be within 1~4')\n",
    "            return -1\n",
    "        \n",
    "        set_channel=c_int32(channel)#convert to c_int32        \n",
    "        set_pressure=c_double(pressure) #convert to c_double        \n",
    "        error=OB1_Set_Press(self.Instr_ID.value, set_channel, set_pressure, byref(self.Calib),1000) \n",
    "        _check_error('Setting pressure', error)\n",
    "        \n",
    "        return error\n",
    "    \n",
    "    def meas_pressure(self, channel=1):\n",
    "        \"\"\"\n",
    "        Measures the instantaneous pressure, on designated channel.\n",
    "        Parameters:\n",
    "            channel: ob1 channel to set (1-4), defaults to 1\n",
    "        return: (pressure, error code)\n",
    "            flowrate in mBar\n",
    "            0 : successful\n",
    "            -1 : parameter error\n",
    "            otherwise: NI error\n",
    "        \"\"\"\n",
    "        if channel <1 or channel > 4:\n",
    "            print('ob1.meas_pressure: channel must be within 1~4')\n",
    "            return -1\n",
    "        \n",
    "        set_channel = c_int32(channel)  # convert to c_int32\n",
    "        get_pressure = c_double(0.0)\n",
    "        error = OB1_Get_Press(self.Instr_ID.value, set_channel, Acquire_Data1True0False=1, Calib_array_in=self.Calib, Pressure=byref(get_pressure), Calib_Array_len=1000)  # Acquire_data =1 -> Read all the analog value\n",
    "        _check_error('Getting pressure from OB1', error)\n",
    "        \n",
    "        return get_pressure.value, error\n",
    "    \n",
    "    def __del__(self):\n",
    "        self.set_pressure(0)\n",
    "        error=OB1_Destructor(self.Instr_ID.value)\n",
    "        \n",
    "class mux_wire():\n",
    "    def __init__(self, address='Dev2'):\n",
    "        self.Instr_ID = c_int32()\n",
    "        # see User guide to determine regulator type NI MAX to determine the instrument name\n",
    "        error = MUX_Initialization(address.encode('ascii'), byref(self.Instr_ID))\n",
    "        # all functions will return error code to help you to debug your code, for further information see user guide\n",
    "        _check_error('MUX Initialization', error)\n",
    "        print(error)\n",
    "        \n",
    "        self.state = [0]*8\n",
    "        \n",
    "    def set_all_valves(self, state):\n",
    "        \"\"\"\n",
    "        Sets state of all valves\n",
    "        Parameters:\n",
    "            state: 8 integer (0: close, 1: open)\n",
    "        return: error code\n",
    "            0 : successful\n",
    "            -1 : parameter error\n",
    "            otherwise: NI error\n",
    "        \"\"\"\n",
    "        if not (isinstance(state, list) and len(state) == 8):\n",
    "            print('Error mux_wire.set_all_valves: state has to be a list of 8 integers')\n",
    "            return -1\n",
    "        \n",
    "        self.state = state\n",
    "        valve_state=(c_int32*16)(0)\n",
    "        for i in range(8):\n",
    "            valve_state[i]=c_int32(state[i]) \n",
    "            \n",
    "        error=MUX_Wire_Set_all_valves(self.Instr_ID.value, valve_state, 16)\n",
    "        \n",
    "        return error     \n",
    "    \n",
    "    def set_valve(self, channel, state):\n",
    "        \"\"\"\n",
    "        Sets state of a certain valve\n",
    "        Parameters:\n",
    "            channel: integer (1-8)\n",
    "            state: integer (0: close to N.O., 1: open to N.C.)\n",
    "        return: error code\n",
    "            0 : successful\n",
    "            -1 : parameter error\n",
    "            otherwise: NI error\n",
    "        \"\"\"\n",
    "        if not isinstance(state, int):\n",
    "            print('Error mux_wire.set_valve: state has to be an integer')\n",
    "            return -1\n",
    "        if not (isinstance(channel, int) and channel>0 and channel<9) :\n",
    "            print('Error mux_wire.set_valve: channel has to be integer (1-8)')\n",
    "            return -1\n",
    "                \n",
    "        self.state[channel-1] = state\n",
    "        valve_state=(c_int32*16)(0)\n",
    "        for i in range(8):\n",
    "            valve_state[i]=c_int32(self.state[i]) \n",
    "            \n",
    "        error=MUX_Wire_Set_all_valves(self.Instr_ID.value, valve_state, 16)\n",
    "        \n",
    "    def get_state(self):\n",
    "        \"\"\"\n",
    "        Returns state of current valves: list of 8 integers\n",
    "        \"\"\"\n",
    "        return self.state\n",
    "            \n",
    "    def __del__(self):\n",
    "        error=MUX_Destructor(self.Instr_ID.value)\n",
    "        \n",
    "class msr():\n",
    "    def __init__(self, address='01EE3A2D'):\n",
    "        self.Instr_ID = c_int32()\n",
    "        # see User guide to determine regulator type NI MAX to determine theerror=M_S_R_D_Initialization('01DAA568'.encode('ascii'),5,0,0,0,0,0,byref(Instr_ID)) \n",
    "        # channel 1: Z_sensor _type_Flow_5000_muL_min, channel 2: none, channel 3: none, channel 4:none\n",
    "        error = M_S_R_D_Initialization(address.encode('ascii'),6,0,0,0,0,0,byref(Instr_ID))\n",
    "        # all functions will return error code to help you to debug your code, for further information see user guide\n",
    "        _check_error('MUX Initialization', error)\n",
    "        print(error)       \n",
    "            \n",
    "    def __del__(self):\n",
    "        error=M_S_R_D_Destructor(self.Instr_ID.value)\n",
    "        \n",
    "class sampler():\n",
    "    def __init__(self):\n",
    "        \"\"\"\n",
    "        Initialization\n",
    "        \"\"\"\n",
    "        self.ob1 = ob1(calibrate=False)\n",
    "        self.mux_wire = mux_wire()\n",
    "        \n",
    "    def set_valves(self, reservoir, target):\n",
    "        \"\"\"\n",
    "        Sets valve configuration of sampling system\n",
    "        \"\"\"\n",
    "        state = self.mux_wire.get_state()\n",
    "        if reservoir=='air':\n",
    "            print('sampler.set_valves: Set air reservoir')\n",
    "            \n",
    "        if target=='waste':\n",
    "            state[0] = 0\n",
    "        elif target == 'tflask':\n",
    "            state[0] = 1\n",
    "            \n",
    "        error = self.mux_wire.set_all_valves(state)\n",
    "        \n",
    "        return error"
   ]
  },
  {
   "cell_type": "code",
   "execution_count": 59,
   "metadata": {},
   "outputs": [
    {
     "name": "stdout",
     "output_type": "stream",
     "text": [
      "b'Instrument name and regulator types hardcoded in the python script'\n",
      "C:\\Users\\Admin\\Documents\\GitHub\\fluid-auto-sampler\\control_scripts\\ob1_calibration.txt\n"
     ]
    }
   ],
   "source": [
    "# kenobi=ob1(calibrate=True)\n",
    "kenobi=ob1(calibrate=False)"
   ]
  },
  {
   "cell_type": "code",
   "execution_count": 54,
   "metadata": {},
   "outputs": [
    {
     "name": "stdout",
     "output_type": "stream",
     "text": [
      "99.91674880079995\n"
     ]
    }
   ],
   "source": [
    "p,e = kenobi.meas_pressure()\n",
    "\n",
    "print(p)"
   ]
  },
  {
   "cell_type": "code",
   "execution_count": 53,
   "metadata": {},
   "outputs": [
    {
     "data": {
      "text/plain": [
       "0"
      ]
     },
     "execution_count": 53,
     "metadata": {},
     "output_type": "execute_result"
    }
   ],
   "source": [
    "kenobi.set_pressure(100)"
   ]
  },
  {
   "cell_type": "code",
   "execution_count": 45,
   "metadata": {},
   "outputs": [
    {
     "name": "stdout",
     "output_type": "stream",
     "text": [
      "0\n"
     ]
    }
   ],
   "source": [
    "mux = mux_wire()"
   ]
  },
  {
   "cell_type": "code",
   "execution_count": 57,
   "metadata": {},
   "outputs": [
    {
     "data": {
      "text/plain": [
       "0"
      ]
     },
     "execution_count": 57,
     "metadata": {},
     "output_type": "execute_result"
    }
   ],
   "source": [
    "state = [1, 0, 0, 0, 0, 0, 0, 0]\n",
    "mux.set_all_valves(state)"
   ]
  },
  {
   "cell_type": "code",
   "execution_count": 38,
   "metadata": {},
   "outputs": [
    {
     "data": {
      "text/plain": [
       "True"
      ]
     },
     "execution_count": 38,
     "metadata": {},
     "output_type": "execute_result"
    }
   ],
   "source": [
    "isinstance(state, list)"
   ]
  },
  {
   "cell_type": "code",
   "execution_count": 7,
   "metadata": {},
   "outputs": [
    {
     "name": "stdout",
     "output_type": "stream",
     "text": [
      "./ob1_calibration.txt\n",
      "C:\\Users\\Admin\\Documents\\GitHub\\fluid-auto-sampler\\control_scripts\n",
      "ob1_calibration.txt\n",
      "C:\\Users\\Admin\\Documents\\GitHub\\fluid-auto-sampler\\control_scripts\\ob1_calibration.txt\n"
     ]
    }
   ],
   "source": [
    "print(os.path.expanduser(r'./ob1_calibration.txt'))\n",
    "print(os.getcwd())\n",
    "print(os.path.relpath('ob1_calibration.txt'))\n",
    "print(os.path.abspath('ob1_calibration.txt'))"
   ]
  },
  {
   "cell_type": "code",
   "execution_count": 60,
   "metadata": {},
   "outputs": [
    {
     "ename": "NameError",
     "evalue": "name 'mux' is not defined",
     "output_type": "error",
     "traceback": [
      "\u001b[1;31m---------------------------------------------------------------------------\u001b[0m",
      "\u001b[1;31mNameError\u001b[0m                                 Traceback (most recent call last)",
      "\u001b[1;32m<ipython-input-60-3e794ffe8be0>\u001b[0m in \u001b[0;36m<module>\u001b[1;34m\u001b[0m\n\u001b[0;32m      1\u001b[0m \u001b[1;32mdel\u001b[0m \u001b[0mkenobi\u001b[0m\u001b[1;33m\u001b[0m\u001b[1;33m\u001b[0m\u001b[0m\n\u001b[1;32m----> 2\u001b[1;33m \u001b[1;32mdel\u001b[0m \u001b[0mmux\u001b[0m\u001b[1;33m\u001b[0m\u001b[1;33m\u001b[0m\u001b[0m\n\u001b[0m",
      "\u001b[1;31mNameError\u001b[0m: name 'mux' is not defined"
     ]
    }
   ],
   "source": [
    "del kenobi\n",
    "del mux"
   ]
  },
  {
   "cell_type": "code",
   "execution_count": 13,
   "metadata": {},
   "outputs": [
    {
     "name": "stdout",
     "output_type": "stream",
     "text": [
      "[0, 0, 0, 0, 0, 0, 0, 0]\n"
     ]
    }
   ],
   "source": [
    "print([0]*8)"
   ]
  },
  {
   "cell_type": "code",
   "execution_count": null,
   "metadata": {},
   "outputs": [],
   "source": []
  }
 ],
 "metadata": {
  "kernelspec": {
   "display_name": "Python 3",
   "language": "python",
   "name": "python3"
  },
  "language_info": {
   "codemirror_mode": {
    "name": "ipython",
    "version": 3
   },
   "file_extension": ".py",
   "mimetype": "text/x-python",
   "name": "python",
   "nbconvert_exporter": "python",
   "pygments_lexer": "ipython3",
   "version": "3.8.5"
  }
 },
 "nbformat": 4,
 "nbformat_minor": 4
}
